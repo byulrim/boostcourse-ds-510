{
 "cells": [
  {
   "cell_type": "markdown",
   "metadata": {},
   "source": [
    "[![Open In Colab](https://colab.research.google.com/assets/colab-badge.svg)](https://colab.research.google.com/github/corazzon/boostcourse-ds-510/blob/master/k-beauty-oversea-online-sale-output.ipynb)\n",
    "\n",
    "## 국가(대륙)별/상품군별 온라인쇼핑 해외직접판매액\n",
    "* 국가통계포털 : http://kosis.kr/statHtml/statHtml.do?orgId=101&tblId=DT_1KE10081&vw_cd=MT_ZTITLE&list_id=JF&seqNo=&lang_mode=ko&language=kor&obj_var_id=&itm_id=&conn_path=MT_ZTITLE\n",
    "\n",
    "### K-Beauty는 성장하고 있을까? 해외 직접판매를 한다면 어느 국가로 판매전략을 세우면 좋을까?\n",
    "* K-Beauty란? [K-Beauty - Wikipedia](https://en.wikipedia.org/wiki/K-Beauty)\n",
    "* e : 추정치, p : 잠정치, - : 자료없음, ... : 미상자료, x : 비밀보호, ▽ : 시계열 불연 ( 단위 : 백만원 )"
   ]
  },
  {
   "cell_type": "markdown",
   "metadata": {},
   "source": [
    "## 필요 라이브러리 가져오기"
   ]
  },
  {
   "cell_type": "code",
   "execution_count": 1,
   "metadata": {},
   "outputs": [],
   "source": [
    "import pandas as pd\n",
    "import numpy as np\n",
    "import seaborn as sns\n",
    "import matplotlib.pyplot as plt"
   ]
  },
  {
   "cell_type": "markdown",
   "metadata": {},
   "source": [
    "## 한글폰트 설정\n",
    "* https://github.com/ychoi-kr/koreanize-matplotlib"
   ]
  },
  {
   "cell_type": "code",
   "execution_count": null,
   "metadata": {},
   "outputs": [],
   "source": [
    "# 한글폰트 사용을 위해 설치\n",
    "# 아래 모듈을 설치하고 불러오면 별도의 한글폰트 설정이 필요 없습니다.\n",
    "# colab 에서는 아래 모듈을 설치하고 불러와서 사용하세요. \n",
    "\n",
    "# !pip install koreanize-matplotlib\n",
    "\n",
    "# import koreanize_matplotlib"
   ]
  },
  {
   "cell_type": "code",
   "execution_count": 2,
   "metadata": {},
   "outputs": [],
   "source": [
    "# os 별로 폰트를 다르게 설정해 줍니다.\n",
    "def get_font_by_os():\n",
    "\n",
    "    import platform\n",
    "\n",
    "    os_str = platform.system()\n",
    "\n",
    "    if os_str.casefold() == \"windows\":\n",
    "        font_family = \"Malgul Gothic\"\n",
    "    else: #MacOS\n",
    "        font_family = \"AppleGothic\"\n",
    "    \n",
    "    return font_family\n",
    "    \n",
    "# 레티나 설정을 해주면 글씨가 좀 더 선명하게 보입니다.\n",
    "# 폰트의 주변이 흐릿하게 보이는 것을 방지합니다.\n",
    "%config InlineBackend.figure_format = 'retina'"
   ]
  },
  {
   "cell_type": "code",
   "execution_count": 3,
   "metadata": {},
   "outputs": [
    {
     "data": {
      "text/plain": [
       "'Malgul Gothic'"
      ]
     },
     "execution_count": 3,
     "metadata": {},
     "output_type": "execute_result"
    }
   ],
   "source": [
    "get_font_by_os()"
   ]
  },
  {
   "cell_type": "markdown",
   "metadata": {},
   "source": [
    "## 데이터 로드하기"
   ]
  },
  {
   "cell_type": "code",
   "execution_count": 4,
   "metadata": {},
   "outputs": [
    {
     "data": {
      "text/plain": [
       "'./data/store\\\\국가_대륙_별_상품군별_온라인쇼핑_해외직접판매액_20230428224141.csv'"
      ]
     },
     "execution_count": 4,
     "metadata": {},
     "output_type": "execute_result"
    }
   ],
   "source": [
    "from glob import glob\n",
    "\n",
    "file_name = glob(\"./data/store/국가*.csv\")[0]\n",
    "file_name"
   ]
  },
  {
   "cell_type": "code",
   "execution_count": 5,
   "metadata": {},
   "outputs": [
    {
     "data": {
      "text/plain": [
       "(450, 27)"
      ]
     },
     "execution_count": 5,
     "metadata": {},
     "output_type": "execute_result"
    }
   ],
   "source": [
    "# df_raw = pd.read_csv(\"data/국가_대륙_별_상품군별_온라인쇼핑_해외직접판매액_202002.csv\", \n",
    "#                      encoding=\"cp949\")\n",
    "# df_raw = pd.read_csv(\"https://raw.githubusercontent.com/corazzon/boostcourse-ds-510/master/data/online_oversea_sale.csv.zip\", \n",
    "#                      encoding=\"cp949\")\n",
    "# df_raw.shape\n",
    "df_raw = pd.read_csv(file_name, encoding=\"cp949\")\n",
    "df_raw.shape"
   ]
  },
  {
   "cell_type": "code",
   "execution_count": 6,
   "metadata": {},
   "outputs": [
    {
     "data": {
      "text/plain": [
       "Index(['국가(대륙)별', '상품군별', '판매유형별', '2014.1/4', '2014.2/4', '2014.3/4',\n",
       "       '2014.4/4', '2015.1/4', '2015.2/4', '2015.3/4', '2015.4/4', '2016.1/4',\n",
       "       '2016.2/4', '2016.3/4', '2016.4/4', '2017.1/4', '2017.2/4', '2017.3/4',\n",
       "       '2017.4/4', '2018.1/4', '2018.2/4', '2018.3/4', '2018.4/4', '2019.1/4',\n",
       "       '2019.2/4', '2019.3/4', '2019.4/4'],\n",
       "      dtype='object')"
      ]
     },
     "execution_count": 6,
     "metadata": {},
     "output_type": "execute_result"
    }
   ],
   "source": [
    "df_raw.columns"
   ]
  },
  {
   "cell_type": "code",
   "execution_count": 7,
   "metadata": {
    "scrolled": true
   },
   "outputs": [
    {
     "data": {
      "text/plain": [
       "합계            45\n",
       "미국            45\n",
       "중국            45\n",
       "일본            45\n",
       "아세안(ASEAN)    45\n",
       "유럽연합(EU)      45\n",
       "중동            45\n",
       "중남미           45\n",
       "대양주           45\n",
       "기타            45\n",
       "Name: 국가(대륙)별, dtype: int64"
      ]
     },
     "execution_count": 7,
     "metadata": {},
     "output_type": "execute_result"
    }
   ],
   "source": [
    "# \"국가(대륙)별\" 데이터 빈도수 세기\n",
    "df_raw[\"국가(대륙)별\"].value_counts()"
   ]
  },
  {
   "cell_type": "code",
   "execution_count": 11,
   "metadata": {},
   "outputs": [
    {
     "data": {
      "text/html": [
       "<div>\n",
       "<style scoped>\n",
       "    .dataframe tbody tr th:only-of-type {\n",
       "        vertical-align: middle;\n",
       "    }\n",
       "\n",
       "    .dataframe tbody tr th {\n",
       "        vertical-align: top;\n",
       "    }\n",
       "\n",
       "    .dataframe thead th {\n",
       "        text-align: right;\n",
       "    }\n",
       "</style>\n",
       "<table border=\"1\" class=\"dataframe\">\n",
       "  <thead>\n",
       "    <tr style=\"text-align: right;\">\n",
       "      <th></th>\n",
       "      <th>국가(대륙)별</th>\n",
       "      <th>상품군별</th>\n",
       "      <th>판매유형별</th>\n",
       "      <th>2014.1/4</th>\n",
       "      <th>2014.2/4</th>\n",
       "      <th>2014.3/4</th>\n",
       "      <th>2014.4/4</th>\n",
       "      <th>2015.1/4</th>\n",
       "      <th>2015.2/4</th>\n",
       "      <th>2015.3/4</th>\n",
       "      <th>...</th>\n",
       "      <th>2017.3/4</th>\n",
       "      <th>2017.4/4</th>\n",
       "      <th>2018.1/4</th>\n",
       "      <th>2018.2/4</th>\n",
       "      <th>2018.3/4</th>\n",
       "      <th>2018.4/4</th>\n",
       "      <th>2019.1/4</th>\n",
       "      <th>2019.2/4</th>\n",
       "      <th>2019.3/4</th>\n",
       "      <th>2019.4/4</th>\n",
       "    </tr>\n",
       "  </thead>\n",
       "  <tbody>\n",
       "    <tr>\n",
       "      <th>45</th>\n",
       "      <td>미국</td>\n",
       "      <td>합계</td>\n",
       "      <td>계</td>\n",
       "      <td>25773</td>\n",
       "      <td>22573</td>\n",
       "      <td>21288</td>\n",
       "      <td>26729</td>\n",
       "      <td>39945</td>\n",
       "      <td>26654</td>\n",
       "      <td>28647</td>\n",
       "      <td>...</td>\n",
       "      <td>42331</td>\n",
       "      <td>53209</td>\n",
       "      <td>42679</td>\n",
       "      <td>40207</td>\n",
       "      <td>37631</td>\n",
       "      <td>48978</td>\n",
       "      <td>40985</td>\n",
       "      <td>44973</td>\n",
       "      <td>55512</td>\n",
       "      <td>54054</td>\n",
       "    </tr>\n",
       "    <tr>\n",
       "      <th>46</th>\n",
       "      <td>미국</td>\n",
       "      <td>합계</td>\n",
       "      <td>면세점</td>\n",
       "      <td>-</td>\n",
       "      <td>-</td>\n",
       "      <td>-</td>\n",
       "      <td>-</td>\n",
       "      <td>-</td>\n",
       "      <td>-</td>\n",
       "      <td>-</td>\n",
       "      <td>...</td>\n",
       "      <td>9469</td>\n",
       "      <td>12177</td>\n",
       "      <td>5184</td>\n",
       "      <td>3603</td>\n",
       "      <td>2317</td>\n",
       "      <td>2079</td>\n",
       "      <td>2657</td>\n",
       "      <td>2951</td>\n",
       "      <td>1818</td>\n",
       "      <td>1481</td>\n",
       "    </tr>\n",
       "    <tr>\n",
       "      <th>47</th>\n",
       "      <td>미국</td>\n",
       "      <td>합계</td>\n",
       "      <td>면세점 이외</td>\n",
       "      <td>-</td>\n",
       "      <td>-</td>\n",
       "      <td>-</td>\n",
       "      <td>-</td>\n",
       "      <td>-</td>\n",
       "      <td>-</td>\n",
       "      <td>-</td>\n",
       "      <td>...</td>\n",
       "      <td>32862</td>\n",
       "      <td>41032</td>\n",
       "      <td>37495</td>\n",
       "      <td>36604</td>\n",
       "      <td>35314</td>\n",
       "      <td>46899</td>\n",
       "      <td>38328</td>\n",
       "      <td>42022</td>\n",
       "      <td>53694</td>\n",
       "      <td>52573</td>\n",
       "    </tr>\n",
       "    <tr>\n",
       "      <th>48</th>\n",
       "      <td>미국</td>\n",
       "      <td>컴퓨터 및 주변기기</td>\n",
       "      <td>계</td>\n",
       "      <td>2216</td>\n",
       "      <td>1666</td>\n",
       "      <td>1776</td>\n",
       "      <td>1675</td>\n",
       "      <td>1469</td>\n",
       "      <td>1393</td>\n",
       "      <td>2166</td>\n",
       "      <td>...</td>\n",
       "      <td>802</td>\n",
       "      <td>854</td>\n",
       "      <td>2033</td>\n",
       "      <td>1553</td>\n",
       "      <td>1784</td>\n",
       "      <td>1774</td>\n",
       "      <td>1298</td>\n",
       "      <td>1408</td>\n",
       "      <td>1653</td>\n",
       "      <td>1383</td>\n",
       "    </tr>\n",
       "    <tr>\n",
       "      <th>49</th>\n",
       "      <td>미국</td>\n",
       "      <td>컴퓨터 및 주변기기</td>\n",
       "      <td>면세점</td>\n",
       "      <td>-</td>\n",
       "      <td>-</td>\n",
       "      <td>-</td>\n",
       "      <td>-</td>\n",
       "      <td>-</td>\n",
       "      <td>-</td>\n",
       "      <td>-</td>\n",
       "      <td>...</td>\n",
       "      <td>0</td>\n",
       "      <td>0</td>\n",
       "      <td>0</td>\n",
       "      <td>0</td>\n",
       "      <td>0</td>\n",
       "      <td>1</td>\n",
       "      <td>0</td>\n",
       "      <td>0</td>\n",
       "      <td>0</td>\n",
       "      <td>0</td>\n",
       "    </tr>\n",
       "  </tbody>\n",
       "</table>\n",
       "<p>5 rows × 27 columns</p>\n",
       "</div>"
      ],
      "text/plain": [
       "   국가(대륙)별        상품군별   판매유형별 2014.1/4 2014.2/4 2014.3/4 2014.4/4 2015.1/4  \\\n",
       "45      미국          합계       계    25773    22573    21288    26729    39945   \n",
       "46      미국          합계     면세점        -        -        -        -        -   \n",
       "47      미국          합계  면세점 이외        -        -        -        -        -   \n",
       "48      미국  컴퓨터 및 주변기기       계     2216     1666     1776     1675     1469   \n",
       "49      미국  컴퓨터 및 주변기기     면세점        -        -        -        -        -   \n",
       "\n",
       "   2015.2/4 2015.3/4  ... 2017.3/4 2017.4/4 2018.1/4 2018.2/4 2018.3/4  \\\n",
       "45    26654    28647  ...    42331    53209    42679    40207    37631   \n",
       "46        -        -  ...     9469    12177     5184     3603     2317   \n",
       "47        -        -  ...    32862    41032    37495    36604    35314   \n",
       "48     1393     2166  ...      802      854     2033     1553     1784   \n",
       "49        -        -  ...        0        0        0        0        0   \n",
       "\n",
       "    2018.4/4  2019.1/4  2019.2/4  2019.3/4  2019.4/4  \n",
       "45     48978     40985     44973     55512     54054  \n",
       "46      2079      2657      2951      1818      1481  \n",
       "47     46899     38328     42022     53694     52573  \n",
       "48      1774      1298      1408      1653      1383  \n",
       "49         1         0         0         0         0  \n",
       "\n",
       "[5 rows x 27 columns]"
      ]
     },
     "execution_count": 11,
     "metadata": {},
     "output_type": "execute_result"
    }
   ],
   "source": [
    "# 미국 데이터만 따로 보기\n",
    "# df_raw[df_raw[\"국가(대륙)별\"].str.contains(\"미국\")]\n",
    "df_raw[df_raw[\"국가(대륙)별\"] == \"미국\"].head()"
   ]
  },
  {
   "cell_type": "markdown",
   "metadata": {},
   "source": [
    "## 분석과 시각화를 위한 tidy data 만들기\n",
    "* https://pandas.pydata.org/Pandas_Cheat_Sheet.pdf"
   ]
  },
  {
   "cell_type": "code",
   "execution_count": 12,
   "metadata": {},
   "outputs": [
    {
     "data": {
      "text/plain": [
       "Index(['국가(대륙)별', '상품군별', '판매유형별', '2014.1/4', '2014.2/4', '2014.3/4',\n",
       "       '2014.4/4', '2015.1/4', '2015.2/4', '2015.3/4', '2015.4/4', '2016.1/4',\n",
       "       '2016.2/4', '2016.3/4', '2016.4/4', '2017.1/4', '2017.2/4', '2017.3/4',\n",
       "       '2017.4/4', '2018.1/4', '2018.2/4', '2018.3/4', '2018.4/4', '2019.1/4',\n",
       "       '2019.2/4', '2019.3/4', '2019.4/4'],\n",
       "      dtype='object')"
      ]
     },
     "execution_count": 12,
     "metadata": {},
     "output_type": "execute_result"
    }
   ],
   "source": [
    "df_raw.columns"
   ]
  },
  {
   "cell_type": "code",
   "execution_count": 24,
   "metadata": {},
   "outputs": [
    {
     "data": {
      "text/plain": [
       "(10800, 5)"
      ]
     },
     "execution_count": 24,
     "metadata": {},
     "output_type": "execute_result"
    }
   ],
   "source": [
    "#df_raw.melt([\"국가(대륙)별\", \"상품군별\", \"판매유형별\"])\n",
    "df = df_raw.melt([\"국가(대륙)별\", \"상품군별\", \"판매유형별\"], var_name=\"기간\", value_name=\"판매액(백만원)\")\n",
    "df.shape"
   ]
  },
  {
   "cell_type": "code",
   "execution_count": 27,
   "metadata": {},
   "outputs": [
    {
     "name": "stdout",
     "output_type": "stream",
     "text": [
      "<class 'pandas.core.frame.DataFrame'>\n",
      "RangeIndex: 10800 entries, 0 to 10799\n",
      "Data columns (total 5 columns):\n",
      " #   Column    Non-Null Count  Dtype \n",
      "---  ------    --------------  ----- \n",
      " 0   국가(대륙)별   10800 non-null  object\n",
      " 1   상품군별      10800 non-null  object\n",
      " 2   판매유형별     10800 non-null  object\n",
      " 3   기간        10800 non-null  object\n",
      " 4   판매액(백만원)  10800 non-null  object\n",
      "dtypes: object(5)\n",
      "memory usage: 422.0+ KB\n"
     ]
    }
   ],
   "source": [
    "df.info()"
   ]
  },
  {
   "cell_type": "markdown",
   "metadata": {},
   "source": [
    "## 데이터 전처리\n",
    "### 기간에서 연도를 분리하기"
   ]
  },
  {
   "cell_type": "code",
   "execution_count": 35,
   "metadata": {},
   "outputs": [
    {
     "data": {
      "text/plain": [
       "'2014.1/4'"
      ]
     },
     "execution_count": 35,
     "metadata": {},
     "output_type": "execute_result"
    }
   ],
   "source": [
    "# df.iloc[0, 3]"
   ]
  },
  {
   "cell_type": "code",
   "execution_count": 51,
   "metadata": {},
   "outputs": [
    {
     "data": {
      "text/plain": [
       "2014"
      ]
     },
     "execution_count": 51,
     "metadata": {},
     "output_type": "execute_result"
    }
   ],
   "source": [
    "# int('2014.1/4'.split(\".\")[0])"
   ]
  },
  {
   "cell_type": "code",
   "execution_count": 54,
   "metadata": {},
   "outputs": [
    {
     "data": {
      "text/html": [
       "<div>\n",
       "<style scoped>\n",
       "    .dataframe tbody tr th:only-of-type {\n",
       "        vertical-align: middle;\n",
       "    }\n",
       "\n",
       "    .dataframe tbody tr th {\n",
       "        vertical-align: top;\n",
       "    }\n",
       "\n",
       "    .dataframe thead th {\n",
       "        text-align: right;\n",
       "    }\n",
       "</style>\n",
       "<table border=\"1\" class=\"dataframe\">\n",
       "  <thead>\n",
       "    <tr style=\"text-align: right;\">\n",
       "      <th></th>\n",
       "      <th>국가(대륙)별</th>\n",
       "      <th>상품군별</th>\n",
       "      <th>판매유형별</th>\n",
       "      <th>기간</th>\n",
       "      <th>판매액(백만원)</th>\n",
       "      <th>연도</th>\n",
       "    </tr>\n",
       "  </thead>\n",
       "  <tbody>\n",
       "    <tr>\n",
       "      <th>0</th>\n",
       "      <td>합계</td>\n",
       "      <td>합계</td>\n",
       "      <td>계</td>\n",
       "      <td>2014.1/4</td>\n",
       "      <td>148272</td>\n",
       "      <td>2014</td>\n",
       "    </tr>\n",
       "    <tr>\n",
       "      <th>1</th>\n",
       "      <td>합계</td>\n",
       "      <td>합계</td>\n",
       "      <td>면세점</td>\n",
       "      <td>2014.1/4</td>\n",
       "      <td>-</td>\n",
       "      <td>2014</td>\n",
       "    </tr>\n",
       "    <tr>\n",
       "      <th>2</th>\n",
       "      <td>합계</td>\n",
       "      <td>합계</td>\n",
       "      <td>면세점 이외</td>\n",
       "      <td>2014.1/4</td>\n",
       "      <td>-</td>\n",
       "      <td>2014</td>\n",
       "    </tr>\n",
       "    <tr>\n",
       "      <th>3</th>\n",
       "      <td>합계</td>\n",
       "      <td>컴퓨터 및 주변기기</td>\n",
       "      <td>계</td>\n",
       "      <td>2014.1/4</td>\n",
       "      <td>4915</td>\n",
       "      <td>2014</td>\n",
       "    </tr>\n",
       "    <tr>\n",
       "      <th>4</th>\n",
       "      <td>합계</td>\n",
       "      <td>컴퓨터 및 주변기기</td>\n",
       "      <td>면세점</td>\n",
       "      <td>2014.1/4</td>\n",
       "      <td>-</td>\n",
       "      <td>2014</td>\n",
       "    </tr>\n",
       "  </tbody>\n",
       "</table>\n",
       "</div>"
      ],
      "text/plain": [
       "  국가(대륙)별        상품군별   판매유형별        기간 판매액(백만원)    연도\n",
       "0      합계          합계       계  2014.1/4   148272  2014\n",
       "1      합계          합계     면세점  2014.1/4        -  2014\n",
       "2      합계          합계  면세점 이외  2014.1/4        -  2014\n",
       "3      합계  컴퓨터 및 주변기기       계  2014.1/4     4915  2014\n",
       "4      합계  컴퓨터 및 주변기기     면세점  2014.1/4        -  2014"
      ]
     },
     "execution_count": 54,
     "metadata": {},
     "output_type": "execute_result"
    }
   ],
   "source": [
    "# df[\"연도\"]\n",
    "# df[\"연도\"] = df[\"기간\"].str.split(\".\",expand=True).iloc[:, 0].astype(int)\n",
    "df[\"연도\"] = df[\"기간\"].map(lambda x: int(x.split(\".\")[0]))\n",
    "df.head()"
   ]
  },
  {
   "cell_type": "code",
   "execution_count": 61,
   "metadata": {},
   "outputs": [
    {
     "data": {
      "text/plain": [
       "4"
      ]
     },
     "execution_count": 61,
     "metadata": {},
     "output_type": "execute_result"
    }
   ],
   "source": [
    "# int('2014.4/4'.split(\".\")[1].split(\"/\")[0])"
   ]
  },
  {
   "cell_type": "code",
   "execution_count": 64,
   "metadata": {},
   "outputs": [
    {
     "data": {
      "text/html": [
       "<div>\n",
       "<style scoped>\n",
       "    .dataframe tbody tr th:only-of-type {\n",
       "        vertical-align: middle;\n",
       "    }\n",
       "\n",
       "    .dataframe tbody tr th {\n",
       "        vertical-align: top;\n",
       "    }\n",
       "\n",
       "    .dataframe thead th {\n",
       "        text-align: right;\n",
       "    }\n",
       "</style>\n",
       "<table border=\"1\" class=\"dataframe\">\n",
       "  <thead>\n",
       "    <tr style=\"text-align: right;\">\n",
       "      <th></th>\n",
       "      <th>국가(대륙)별</th>\n",
       "      <th>상품군별</th>\n",
       "      <th>판매유형별</th>\n",
       "      <th>기간</th>\n",
       "      <th>판매액(백만원)</th>\n",
       "      <th>연도</th>\n",
       "      <th>분기</th>\n",
       "    </tr>\n",
       "  </thead>\n",
       "  <tbody>\n",
       "    <tr>\n",
       "      <th>0</th>\n",
       "      <td>합계</td>\n",
       "      <td>합계</td>\n",
       "      <td>계</td>\n",
       "      <td>2014.1/4</td>\n",
       "      <td>148272</td>\n",
       "      <td>2014</td>\n",
       "      <td>1</td>\n",
       "    </tr>\n",
       "    <tr>\n",
       "      <th>1</th>\n",
       "      <td>합계</td>\n",
       "      <td>합계</td>\n",
       "      <td>면세점</td>\n",
       "      <td>2014.1/4</td>\n",
       "      <td>-</td>\n",
       "      <td>2014</td>\n",
       "      <td>1</td>\n",
       "    </tr>\n",
       "    <tr>\n",
       "      <th>2</th>\n",
       "      <td>합계</td>\n",
       "      <td>합계</td>\n",
       "      <td>면세점 이외</td>\n",
       "      <td>2014.1/4</td>\n",
       "      <td>-</td>\n",
       "      <td>2014</td>\n",
       "      <td>1</td>\n",
       "    </tr>\n",
       "    <tr>\n",
       "      <th>3</th>\n",
       "      <td>합계</td>\n",
       "      <td>컴퓨터 및 주변기기</td>\n",
       "      <td>계</td>\n",
       "      <td>2014.1/4</td>\n",
       "      <td>4915</td>\n",
       "      <td>2014</td>\n",
       "      <td>1</td>\n",
       "    </tr>\n",
       "    <tr>\n",
       "      <th>4</th>\n",
       "      <td>합계</td>\n",
       "      <td>컴퓨터 및 주변기기</td>\n",
       "      <td>면세점</td>\n",
       "      <td>2014.1/4</td>\n",
       "      <td>-</td>\n",
       "      <td>2014</td>\n",
       "      <td>1</td>\n",
       "    </tr>\n",
       "  </tbody>\n",
       "</table>\n",
       "</div>"
      ],
      "text/plain": [
       "  국가(대륙)별        상품군별   판매유형별        기간 판매액(백만원)    연도  분기\n",
       "0      합계          합계       계  2014.1/4   148272  2014   1\n",
       "1      합계          합계     면세점  2014.1/4        -  2014   1\n",
       "2      합계          합계  면세점 이외  2014.1/4        -  2014   1\n",
       "3      합계  컴퓨터 및 주변기기       계  2014.1/4     4915  2014   1\n",
       "4      합계  컴퓨터 및 주변기기     면세점  2014.1/4        -  2014   1"
      ]
     },
     "execution_count": 64,
     "metadata": {},
     "output_type": "execute_result"
    }
   ],
   "source": [
    "# df[\"분기\"]\n",
    "df[\"분기\"] = df[\"기간\"].map(lambda x: int(x.split(\".\")[1].split(\"/\")[0]))\n",
    "df.head()"
   ]
  },
  {
   "cell_type": "code",
   "execution_count": 74,
   "metadata": {},
   "outputs": [
    {
     "name": "stdout",
     "output_type": "stream",
     "text": [
      "<class 'pandas.core.frame.DataFrame'>\n",
      "RangeIndex: 10800 entries, 0 to 10799\n",
      "Data columns (total 7 columns):\n",
      " #   Column    Non-Null Count  Dtype  \n",
      "---  ------    --------------  -----  \n",
      " 0   국가(대륙)별   10800 non-null  object \n",
      " 1   상품군별      10800 non-null  object \n",
      " 2   판매유형별     10800 non-null  object \n",
      " 3   기간        10800 non-null  object \n",
      " 4   판매액(백만원)  7200 non-null   float64\n",
      " 5   연도        10800 non-null  int64  \n",
      " 6   분기        10800 non-null  int64  \n",
      "dtypes: float64(1), int64(2), object(4)\n",
      "memory usage: 590.8+ KB\n"
     ]
    }
   ],
   "source": [
    "df.info()"
   ]
  },
  {
   "cell_type": "markdown",
   "metadata": {},
   "source": [
    "### 금액을 수치데이터로 표현하기 위해 데이터 타입 변경하기"
   ]
  },
  {
   "cell_type": "code",
   "execution_count": 73,
   "metadata": {
    "scrolled": true
   },
   "outputs": [
    {
     "data": {
      "text/html": [
       "<div>\n",
       "<style scoped>\n",
       "    .dataframe tbody tr th:only-of-type {\n",
       "        vertical-align: middle;\n",
       "    }\n",
       "\n",
       "    .dataframe tbody tr th {\n",
       "        vertical-align: top;\n",
       "    }\n",
       "\n",
       "    .dataframe thead th {\n",
       "        text-align: right;\n",
       "    }\n",
       "</style>\n",
       "<table border=\"1\" class=\"dataframe\">\n",
       "  <thead>\n",
       "    <tr style=\"text-align: right;\">\n",
       "      <th></th>\n",
       "      <th>국가(대륙)별</th>\n",
       "      <th>상품군별</th>\n",
       "      <th>판매유형별</th>\n",
       "      <th>기간</th>\n",
       "      <th>판매액(백만원)</th>\n",
       "      <th>연도</th>\n",
       "      <th>분기</th>\n",
       "    </tr>\n",
       "  </thead>\n",
       "  <tbody>\n",
       "    <tr>\n",
       "      <th>0</th>\n",
       "      <td>합계</td>\n",
       "      <td>합계</td>\n",
       "      <td>계</td>\n",
       "      <td>2014.1/4</td>\n",
       "      <td>148272.0</td>\n",
       "      <td>2014</td>\n",
       "      <td>1</td>\n",
       "    </tr>\n",
       "    <tr>\n",
       "      <th>1</th>\n",
       "      <td>합계</td>\n",
       "      <td>합계</td>\n",
       "      <td>면세점</td>\n",
       "      <td>2014.1/4</td>\n",
       "      <td>NaN</td>\n",
       "      <td>2014</td>\n",
       "      <td>1</td>\n",
       "    </tr>\n",
       "    <tr>\n",
       "      <th>2</th>\n",
       "      <td>합계</td>\n",
       "      <td>합계</td>\n",
       "      <td>면세점 이외</td>\n",
       "      <td>2014.1/4</td>\n",
       "      <td>NaN</td>\n",
       "      <td>2014</td>\n",
       "      <td>1</td>\n",
       "    </tr>\n",
       "    <tr>\n",
       "      <th>3</th>\n",
       "      <td>합계</td>\n",
       "      <td>컴퓨터 및 주변기기</td>\n",
       "      <td>계</td>\n",
       "      <td>2014.1/4</td>\n",
       "      <td>4915.0</td>\n",
       "      <td>2014</td>\n",
       "      <td>1</td>\n",
       "    </tr>\n",
       "    <tr>\n",
       "      <th>4</th>\n",
       "      <td>합계</td>\n",
       "      <td>컴퓨터 및 주변기기</td>\n",
       "      <td>면세점</td>\n",
       "      <td>2014.1/4</td>\n",
       "      <td>NaN</td>\n",
       "      <td>2014</td>\n",
       "      <td>1</td>\n",
       "    </tr>\n",
       "  </tbody>\n",
       "</table>\n",
       "</div>"
      ],
      "text/plain": [
       "  국가(대륙)별        상품군별   판매유형별        기간  판매액(백만원)    연도  분기\n",
       "0      합계          합계       계  2014.1/4  148272.0  2014   1\n",
       "1      합계          합계     면세점  2014.1/4       NaN  2014   1\n",
       "2      합계          합계  면세점 이외  2014.1/4       NaN  2014   1\n",
       "3      합계  컴퓨터 및 주변기기       계  2014.1/4    4915.0  2014   1\n",
       "4      합계  컴퓨터 및 주변기기     면세점  2014.1/4       NaN  2014   1"
      ]
     },
     "execution_count": 73,
     "metadata": {},
     "output_type": "execute_result"
    }
   ],
   "source": [
    "# df[\"million\"]\n",
    "df[\"판매액(백만원)\"] = df[\"판매액(백만원)\"].replace(\"-\", np.nan).astype(float)\n",
    "df.head()"
   ]
  },
  {
   "cell_type": "markdown",
   "metadata": {},
   "source": [
    "### 필요없는 데이터 제거하기"
   ]
  },
  {
   "cell_type": "code",
   "execution_count": 80,
   "metadata": {},
   "outputs": [],
   "source": [
    "# 합계 데이터는 따로 구할 수 있기 때문에 전체 데이터에서 제거합니다.\n",
    "# df[\"국가(대륙)별\"] != \"합계\"\n",
    "# df[\"상품군별\"] != \"합계\"\n",
    "# df[\"판매유형별\"] != \"계\"\n",
    "df = df[~((df[\"국가(대륙)별\"] == \"합계\") | (df[\"상품군별\"] == \"합계\"))]"
   ]
  },
  {
   "cell_type": "code",
   "execution_count": 82,
   "metadata": {
    "scrolled": true
   },
   "outputs": [
    {
     "name": "stdout",
     "output_type": "stream",
     "text": [
      "<class 'pandas.core.frame.DataFrame'>\n",
      "Int64Index: 9072 entries, 48 to 10799\n",
      "Data columns (total 7 columns):\n",
      " #   Column    Non-Null Count  Dtype  \n",
      "---  ------    --------------  -----  \n",
      " 0   국가(대륙)별   9072 non-null   object \n",
      " 1   상품군별      9072 non-null   object \n",
      " 2   판매유형별     9072 non-null   object \n",
      " 3   기간        9072 non-null   object \n",
      " 4   판매액(백만원)  6048 non-null   float64\n",
      " 5   연도        9072 non-null   int64  \n",
      " 6   분기        9072 non-null   int64  \n",
      "dtypes: float64(1), int64(2), object(4)\n",
      "memory usage: 567.0+ KB\n"
     ]
    }
   ],
   "source": [
    "df.info()"
   ]
  },
  {
   "cell_type": "code",
   "execution_count": 84,
   "metadata": {},
   "outputs": [
    {
     "data": {
      "text/plain": [
       "국가(대륙)별        0\n",
       "상품군별           0\n",
       "판매유형별          0\n",
       "기간             0\n",
       "판매액(백만원)    3024\n",
       "연도             0\n",
       "분기             0\n",
       "dtype: int64"
      ]
     },
     "execution_count": 84,
     "metadata": {},
     "output_type": "execute_result"
    }
   ],
   "source": [
    "df.isna().sum()"
   ]
  },
  {
   "cell_type": "markdown",
   "metadata": {},
   "source": [
    "## K-Beauty 시각화\n",
    "### 전체 상품군 판매액"
   ]
  },
  {
   "cell_type": "code",
   "execution_count": 95,
   "metadata": {},
   "outputs": [
    {
     "data": {
      "text/html": [
       "<div>\n",
       "<style scoped>\n",
       "    .dataframe tbody tr th:only-of-type {\n",
       "        vertical-align: middle;\n",
       "    }\n",
       "\n",
       "    .dataframe tbody tr th {\n",
       "        vertical-align: top;\n",
       "    }\n",
       "\n",
       "    .dataframe thead th {\n",
       "        text-align: right;\n",
       "    }\n",
       "</style>\n",
       "<table border=\"1\" class=\"dataframe\">\n",
       "  <thead>\n",
       "    <tr style=\"text-align: right;\">\n",
       "      <th></th>\n",
       "      <th>국가(대륙)별</th>\n",
       "      <th>상품군별</th>\n",
       "      <th>판매유형별</th>\n",
       "      <th>기간</th>\n",
       "      <th>판매액(백만원)</th>\n",
       "      <th>연도</th>\n",
       "      <th>분기</th>\n",
       "    </tr>\n",
       "  </thead>\n",
       "  <tbody>\n",
       "    <tr>\n",
       "      <th>48</th>\n",
       "      <td>미국</td>\n",
       "      <td>컴퓨터 및 주변기기</td>\n",
       "      <td>계</td>\n",
       "      <td>2014.1/4</td>\n",
       "      <td>2216.0</td>\n",
       "      <td>2014</td>\n",
       "      <td>1</td>\n",
       "    </tr>\n",
       "    <tr>\n",
       "      <th>51</th>\n",
       "      <td>미국</td>\n",
       "      <td>가전·전자·통신기기</td>\n",
       "      <td>계</td>\n",
       "      <td>2014.1/4</td>\n",
       "      <td>2875.0</td>\n",
       "      <td>2014</td>\n",
       "      <td>1</td>\n",
       "    </tr>\n",
       "    <tr>\n",
       "      <th>54</th>\n",
       "      <td>미국</td>\n",
       "      <td>소프트웨어</td>\n",
       "      <td>계</td>\n",
       "      <td>2014.1/4</td>\n",
       "      <td>47.0</td>\n",
       "      <td>2014</td>\n",
       "      <td>1</td>\n",
       "    </tr>\n",
       "    <tr>\n",
       "      <th>57</th>\n",
       "      <td>미국</td>\n",
       "      <td>서 적</td>\n",
       "      <td>계</td>\n",
       "      <td>2014.1/4</td>\n",
       "      <td>962.0</td>\n",
       "      <td>2014</td>\n",
       "      <td>1</td>\n",
       "    </tr>\n",
       "    <tr>\n",
       "      <th>60</th>\n",
       "      <td>미국</td>\n",
       "      <td>사무·문구</td>\n",
       "      <td>계</td>\n",
       "      <td>2014.1/4</td>\n",
       "      <td>25.0</td>\n",
       "      <td>2014</td>\n",
       "      <td>1</td>\n",
       "    </tr>\n",
       "  </tbody>\n",
       "</table>\n",
       "</div>"
      ],
      "text/plain": [
       "   국가(대륙)별        상품군별 판매유형별        기간  판매액(백만원)    연도  분기\n",
       "48      미국  컴퓨터 및 주변기기     계  2014.1/4    2216.0  2014   1\n",
       "51      미국  가전·전자·통신기기     계  2014.1/4    2875.0  2014   1\n",
       "54      미국       소프트웨어     계  2014.1/4      47.0  2014   1\n",
       "57      미국         서 적     계  2014.1/4     962.0  2014   1\n",
       "60      미국       사무·문구     계  2014.1/4      25.0  2014   1"
      ]
     },
     "execution_count": 95,
     "metadata": {},
     "output_type": "execute_result"
    }
   ],
   "source": [
    "df_total = df[df[\"판매유형별\"].str.contains(\"계\")].copy()\n",
    "df_total.head()"
   ]
  },
  {
   "cell_type": "code",
   "execution_count": null,
   "metadata": {},
   "outputs": [],
   "source": [
    "plt.figure(figsize=(15, 4))\n"
   ]
  },
  {
   "cell_type": "code",
   "execution_count": null,
   "metadata": {},
   "outputs": [],
   "source": []
  },
  {
   "cell_type": "code",
   "execution_count": null,
   "metadata": {},
   "outputs": [],
   "source": [
    "# df_sub"
   ]
  },
  {
   "cell_type": "code",
   "execution_count": null,
   "metadata": {},
   "outputs": [],
   "source": [
    "# sns.relplot\n"
   ]
  },
  {
   "cell_type": "markdown",
   "metadata": {},
   "source": [
    "### 화장품의 온라인쇼핑 해외직접판매액"
   ]
  },
  {
   "cell_type": "code",
   "execution_count": null,
   "metadata": {
    "scrolled": true
   },
   "outputs": [],
   "source": [
    "# df_cosmetic"
   ]
  },
  {
   "cell_type": "code",
   "execution_count": null,
   "metadata": {},
   "outputs": [],
   "source": []
  },
  {
   "cell_type": "code",
   "execution_count": null,
   "metadata": {},
   "outputs": [],
   "source": []
  },
  {
   "cell_type": "code",
   "execution_count": null,
   "metadata": {},
   "outputs": [],
   "source": []
  },
  {
   "cell_type": "markdown",
   "metadata": {},
   "source": [
    "### 의류 및 패션관련 상품 온라인쇼핑 해외직접판매액"
   ]
  },
  {
   "cell_type": "code",
   "execution_count": null,
   "metadata": {},
   "outputs": [],
   "source": [
    "# df_fashion "
   ]
  },
  {
   "cell_type": "code",
   "execution_count": null,
   "metadata": {},
   "outputs": [],
   "source": []
  },
  {
   "cell_type": "markdown",
   "metadata": {},
   "source": [
    "### 데이터 집계하기"
   ]
  },
  {
   "cell_type": "code",
   "execution_count": null,
   "metadata": {},
   "outputs": [],
   "source": []
  },
  {
   "cell_type": "markdown",
   "metadata": {},
   "source": [
    "### 연산결과를 시각적으로 보기"
   ]
  },
  {
   "cell_type": "code",
   "execution_count": null,
   "metadata": {},
   "outputs": [],
   "source": []
  },
  {
   "cell_type": "markdown",
   "metadata": {},
   "source": [
    "## 전체 상품군별로 온라인쇼핑 해외직접판매액은 증가했을까?"
   ]
  },
  {
   "cell_type": "code",
   "execution_count": null,
   "metadata": {
    "scrolled": false
   },
   "outputs": [],
   "source": []
  },
  {
   "cell_type": "code",
   "execution_count": null,
   "metadata": {},
   "outputs": [],
   "source": [
    "plt.figure(figsize=(15, 4))\n"
   ]
  },
  {
   "cell_type": "markdown",
   "metadata": {},
   "source": [
    "* lengend를 그래프의 밖에 그리기 : [matplotlib - Move legend outside figure in seaborn tsplot - Stack Overflow](https://stackoverflow.com/questions/30490740/move-legend-outside-figure-in-seaborn-tsplot)"
   ]
  },
  {
   "cell_type": "code",
   "execution_count": null,
   "metadata": {
    "scrolled": true
   },
   "outputs": [],
   "source": [
    "plt.figure(figsize=(15, 4))\n"
   ]
  },
  {
   "cell_type": "code",
   "execution_count": null,
   "metadata": {},
   "outputs": [],
   "source": []
  },
  {
   "cell_type": "code",
   "execution_count": null,
   "metadata": {},
   "outputs": [],
   "source": []
  },
  {
   "cell_type": "code",
   "execution_count": null,
   "metadata": {},
   "outputs": [],
   "source": []
  },
  {
   "cell_type": "code",
   "execution_count": null,
   "metadata": {},
   "outputs": [],
   "source": []
  }
 ],
 "metadata": {
  "kernelspec": {
   "display_name": "Python 3 (ipykernel)",
   "language": "python",
   "name": "python3"
  },
  "language_info": {
   "codemirror_mode": {
    "name": "ipython",
    "version": 3
   },
   "file_extension": ".py",
   "mimetype": "text/x-python",
   "name": "python",
   "nbconvert_exporter": "python",
   "pygments_lexer": "ipython3",
   "version": "3.9.16"
  },
  "toc": {
   "base_numbering": 1,
   "nav_menu": {},
   "number_sections": true,
   "sideBar": true,
   "skip_h1_title": false,
   "title_cell": "Table of Contents",
   "title_sidebar": "Contents",
   "toc_cell": false,
   "toc_position": {
    "height": "calc(100% - 180px)",
    "left": "10px",
    "top": "150px",
    "width": "170.667px"
   },
   "toc_section_display": true,
   "toc_window_display": true
  },
  "varInspector": {
   "cols": {
    "lenName": 16,
    "lenType": 16,
    "lenVar": 40
   },
   "kernels_config": {
    "python": {
     "delete_cmd_postfix": "",
     "delete_cmd_prefix": "del ",
     "library": "var_list.py",
     "varRefreshCmd": "print(var_dic_list())"
    },
    "r": {
     "delete_cmd_postfix": ") ",
     "delete_cmd_prefix": "rm(",
     "library": "var_list.r",
     "varRefreshCmd": "cat(var_dic_list()) "
    }
   },
   "types_to_exclude": [
    "module",
    "function",
    "builtin_function_or_method",
    "instance",
    "_Feature"
   ],
   "window_display": false
  }
 },
 "nbformat": 4,
 "nbformat_minor": 4
}
