{
 "cells": [
  {
   "cell_type": "markdown",
   "metadata": {},
   "source": [
    "## 음주 여부에 따라 건강검진 수치 차이가 있을까?\n",
    "##  신장과 허리둘레의 크기는 체중과 상관관계가 있을까?\n",
    "\n",
    "* 분석을 통해 가설을 검정해 봅니다.\n",
    "\n",
    "## 라이브러리 로드"
   ]
  },
  {
   "cell_type": "code",
   "execution_count": 1,
   "metadata": {},
   "outputs": [],
   "source": [
    "# 분석에 사용할 pandas, 수치계산에 사용할 numpy, 시각화에 사용할 seaborn 을 불러옵니다.\n",
    "# 또, 구 버전의 주피터 노트북에서는 %matplotlib inline 설정을 되어야 노트북 안에서 그래프를 시각화 합니다.\n",
    "import pandas as pd\n",
    "import numpy as np\n",
    "import seaborn as sns\n",
    "import matplotlib.pyplot as plt"
   ]
  },
  {
   "cell_type": "markdown",
   "metadata": {},
   "source": [
    "## 한글폰트 설정"
   ]
  },
  {
   "cell_type": "code",
   "execution_count": null,
   "metadata": {},
   "outputs": [],
   "source": [
    "# # Google Colab 사용 시 아래 주석을 풀고 폰트설정을 합니다.\n",
    "# # 로컬 아나콘다 사용 시에는 그대로 주석처리 해놓으시면 됩니다.\n",
    "# # 나눔고딕 설치\n",
    "# # 이 코드를 사용시 아래에 있는 폰트를 로드할 경우 colab에서는 오류가 발생하니\n",
    "# # 아래에 있는 폰트 설정은 꼭 주석처리를 해주세요. \n",
    "# !apt -qq -y install fonts-nanum > /dev/null\n",
    "\n",
    "# import matplotlib.font_manager as fm\n",
    "\n",
    "# fontpath = '/usr/share/fonts/truetype/nanum/NanumBarunGothic.ttf'\n",
    "# font = fm.FontProperties(fname=fontpath, size=9)\n",
    "# fm._rebuild()\n",
    "\n",
    "\n",
    "# # Colab 의 한글 폰트 설정\n",
    "# plt.rc('font', family='NanumGothic') \n",
    "# # 마이너스 폰트 깨지는 문제에 대한 대처\n",
    "# plt.rc(\"axes\", unicode_minus=False)"
   ]
  },
  {
   "cell_type": "code",
   "execution_count": 4,
   "metadata": {},
   "outputs": [],
   "source": [
    "# 한글폰트를 설정해 주지 않으면 그래프 상에서 한글이 깨져보입니다.\n",
    "# 한글이 출력될 수 있도록 폰트 설정을 해줍니다.\n",
    "# import matplotlib.pyplot as plt\n",
    "# 운영체제별 설정을 위해 로드 합니다.\n",
    "def get_font_name() -> str:\n",
    "    import platform\n",
    "    \n",
    "    system_name = platform.system()\n",
    "    if system_name == \"Windows\":\n",
    "        font_family = \"D2Coding\"\n",
    "    else:\n",
    "        font_family = \"AppleGothic\"\n",
    "    \n",
    "    return font_family\n",
    "# 윈도우, 맥 외의 OS는 별도로 설정해 주세요.\n",
    "plt.rc(\"font\", family=get_font_name())\n",
    "\n",
    "# 마이너스 폰트 깨지는 문제에 대한 대처\n",
    "plt.rc(\"axes\", unicode_minus=False)"
   ]
  },
  {
   "cell_type": "code",
   "execution_count": 5,
   "metadata": {},
   "outputs": [],
   "source": [
    "# 레티나 설정을 해주면 글씨가 좀 더 선명하게 보입니다.\n",
    "# 폰트의 주변이 흐릿하게 보이는 것을 방지합니다.\n",
    "%config InlineBackend.figure_format = 'retina'"
   ]
  },
  {
   "cell_type": "markdown",
   "metadata": {},
   "source": [
    "## 데이터 불러오기\n",
    "* 건강검진정보란 2002년부터 2013년까지의 국민건강보험의 직장가입자와 40세 이상의 피부양자, 세대주인 지역가입자와 40세 이상의 지역가입자의 일반건강검진 결과와 이들 일반건강검진 대상자 중에 만40세와 만66세에 도달한 이들이 받게 되는 생애전환기건강진단 수검이력이 있는 각 연도별 수진자 100만 명에 대한 기본정보(성, 연령대, 시도코드 등)와 검진내역(신장, 체중, 총콜레스테롤, 혈색소 등)으로 구성된 개방데이터이다.\n",
    "\n",
    "공공데이터 개방서비스( http://nhiss.nhis.or.kr/op/it/index.do )에서도 다운로드 받을 수 있음.\n",
    "\n",
    "* 건강검진정보(2018) 다운로드 받기 : https://www.data.go.kr/dataset/15007122/fileData.do\n",
    "* 2019년 데이터로 실습을 하셔도 됩니다. 다만 encoding과 컬럼명이 달라서 2019년 데이터에 맞게 고쳐주시면 됩니다.\n",
    "* 2019년 외 다른 연도의 데이터로도 실습을 하고자 한다면 컬럼명과 인코딩에 주의해 주세요."
   ]
  },
  {
   "cell_type": "code",
   "execution_count": 9,
   "metadata": {},
   "outputs": [
    {
     "data": {
      "text/plain": [
       "'./data/store\\\\NHIS_OPEN_GJ_2017.CSV'"
      ]
     },
     "execution_count": 9,
     "metadata": {},
     "output_type": "execute_result"
    }
   ],
   "source": [
    "# 다운로드 받은 파일을 판다스의 read_csv 를 통해 읽어옵니다.\n",
    "# 파일을 읽어온 후 shape 로 행과 열의 수를 출력합니다.\n",
    "from glob import glob\n",
    "\n",
    "file_name = glob(\"./data/store/*_*_*_*.csv\")[0]\n",
    "file_name"
   ]
  },
  {
   "cell_type": "code",
   "execution_count": 14,
   "metadata": {},
   "outputs": [
    {
     "data": {
      "text/plain": [
       "(1000000, 34)"
      ]
     },
     "execution_count": 14,
     "metadata": {},
     "output_type": "execute_result"
    }
   ],
   "source": [
    "df = pd.read_csv(file_name, encoding=\"cp949\")\n",
    "df.shape"
   ]
  },
  {
   "cell_type": "markdown",
   "metadata": {},
   "source": [
    "### 데이터 미리보기"
   ]
  },
  {
   "cell_type": "code",
   "execution_count": 15,
   "metadata": {},
   "outputs": [
    {
     "data": {
      "text/html": [
       "<div>\n",
       "<style scoped>\n",
       "    .dataframe tbody tr th:only-of-type {\n",
       "        vertical-align: middle;\n",
       "    }\n",
       "\n",
       "    .dataframe tbody tr th {\n",
       "        vertical-align: top;\n",
       "    }\n",
       "\n",
       "    .dataframe thead th {\n",
       "        text-align: right;\n",
       "    }\n",
       "</style>\n",
       "<table border=\"1\" class=\"dataframe\">\n",
       "  <thead>\n",
       "    <tr style=\"text-align: right;\">\n",
       "      <th></th>\n",
       "      <th>기준년도</th>\n",
       "      <th>가입자일련번호</th>\n",
       "      <th>성별코드</th>\n",
       "      <th>연령대코드(5세단위)</th>\n",
       "      <th>시도코드</th>\n",
       "      <th>신장(5Cm단위)</th>\n",
       "      <th>체중(5Kg 단위)</th>\n",
       "      <th>허리둘레</th>\n",
       "      <th>시력(좌)</th>\n",
       "      <th>시력(우)</th>\n",
       "      <th>...</th>\n",
       "      <th>감마지티피</th>\n",
       "      <th>흡연상태</th>\n",
       "      <th>음주여부</th>\n",
       "      <th>구강검진 수검여부</th>\n",
       "      <th>치아우식증유무</th>\n",
       "      <th>결손치유무</th>\n",
       "      <th>치아마모증유무</th>\n",
       "      <th>제3대구치(사랑니)이상</th>\n",
       "      <th>치석</th>\n",
       "      <th>데이터공개일자</th>\n",
       "    </tr>\n",
       "  </thead>\n",
       "  <tbody>\n",
       "    <tr>\n",
       "      <th>972712</th>\n",
       "      <td>2017</td>\n",
       "      <td>972713</td>\n",
       "      <td>1</td>\n",
       "      <td>13</td>\n",
       "      <td>46</td>\n",
       "      <td>160.0</td>\n",
       "      <td>50.0</td>\n",
       "      <td>70.0</td>\n",
       "      <td>0.6</td>\n",
       "      <td>0.7</td>\n",
       "      <td>...</td>\n",
       "      <td>32.0</td>\n",
       "      <td>1.0</td>\n",
       "      <td>1.0</td>\n",
       "      <td>0</td>\n",
       "      <td>NaN</td>\n",
       "      <td>NaN</td>\n",
       "      <td>NaN</td>\n",
       "      <td>NaN</td>\n",
       "      <td>NaN</td>\n",
       "      <td>20181126</td>\n",
       "    </tr>\n",
       "    <tr>\n",
       "      <th>837644</th>\n",
       "      <td>2017</td>\n",
       "      <td>837645</td>\n",
       "      <td>2</td>\n",
       "      <td>11</td>\n",
       "      <td>11</td>\n",
       "      <td>165.0</td>\n",
       "      <td>70.0</td>\n",
       "      <td>89.0</td>\n",
       "      <td>0.7</td>\n",
       "      <td>0.7</td>\n",
       "      <td>...</td>\n",
       "      <td>48.0</td>\n",
       "      <td>2.0</td>\n",
       "      <td>1.0</td>\n",
       "      <td>1</td>\n",
       "      <td>NaN</td>\n",
       "      <td>NaN</td>\n",
       "      <td>NaN</td>\n",
       "      <td>NaN</td>\n",
       "      <td>1.0</td>\n",
       "      <td>20181126</td>\n",
       "    </tr>\n",
       "    <tr>\n",
       "      <th>345420</th>\n",
       "      <td>2017</td>\n",
       "      <td>345421</td>\n",
       "      <td>1</td>\n",
       "      <td>15</td>\n",
       "      <td>11</td>\n",
       "      <td>180.0</td>\n",
       "      <td>70.0</td>\n",
       "      <td>78.5</td>\n",
       "      <td>0.8</td>\n",
       "      <td>1.2</td>\n",
       "      <td>...</td>\n",
       "      <td>108.0</td>\n",
       "      <td>2.0</td>\n",
       "      <td>0.0</td>\n",
       "      <td>1</td>\n",
       "      <td>NaN</td>\n",
       "      <td>NaN</td>\n",
       "      <td>NaN</td>\n",
       "      <td>NaN</td>\n",
       "      <td>0.0</td>\n",
       "      <td>20181126</td>\n",
       "    </tr>\n",
       "    <tr>\n",
       "      <th>712798</th>\n",
       "      <td>2017</td>\n",
       "      <td>712799</td>\n",
       "      <td>2</td>\n",
       "      <td>9</td>\n",
       "      <td>41</td>\n",
       "      <td>150.0</td>\n",
       "      <td>65.0</td>\n",
       "      <td>80.0</td>\n",
       "      <td>1.2</td>\n",
       "      <td>1.0</td>\n",
       "      <td>...</td>\n",
       "      <td>20.0</td>\n",
       "      <td>1.0</td>\n",
       "      <td>1.0</td>\n",
       "      <td>0</td>\n",
       "      <td>NaN</td>\n",
       "      <td>NaN</td>\n",
       "      <td>NaN</td>\n",
       "      <td>NaN</td>\n",
       "      <td>NaN</td>\n",
       "      <td>20181126</td>\n",
       "    </tr>\n",
       "    <tr>\n",
       "      <th>639021</th>\n",
       "      <td>2017</td>\n",
       "      <td>639022</td>\n",
       "      <td>1</td>\n",
       "      <td>15</td>\n",
       "      <td>46</td>\n",
       "      <td>165.0</td>\n",
       "      <td>70.0</td>\n",
       "      <td>89.0</td>\n",
       "      <td>0.8</td>\n",
       "      <td>0.7</td>\n",
       "      <td>...</td>\n",
       "      <td>21.0</td>\n",
       "      <td>1.0</td>\n",
       "      <td>0.0</td>\n",
       "      <td>0</td>\n",
       "      <td>NaN</td>\n",
       "      <td>NaN</td>\n",
       "      <td>NaN</td>\n",
       "      <td>NaN</td>\n",
       "      <td>NaN</td>\n",
       "      <td>20181126</td>\n",
       "    </tr>\n",
       "  </tbody>\n",
       "</table>\n",
       "<p>5 rows × 34 columns</p>\n",
       "</div>"
      ],
      "text/plain": [
       "        기준년도  가입자일련번호  성별코드  연령대코드(5세단위)  시도코드  신장(5Cm단위)  체중(5Kg 단위)  허리둘레  \\\n",
       "972712  2017   972713     1           13    46      160.0        50.0  70.0   \n",
       "837644  2017   837645     2           11    11      165.0        70.0  89.0   \n",
       "345420  2017   345421     1           15    11      180.0        70.0  78.5   \n",
       "712798  2017   712799     2            9    41      150.0        65.0  80.0   \n",
       "639021  2017   639022     1           15    46      165.0        70.0  89.0   \n",
       "\n",
       "        시력(좌)  시력(우)  ...  감마지티피  흡연상태  음주여부  구강검진 수검여부  치아우식증유무  결손치유무  \\\n",
       "972712    0.6    0.7  ...   32.0   1.0   1.0          0      NaN    NaN   \n",
       "837644    0.7    0.7  ...   48.0   2.0   1.0          1      NaN    NaN   \n",
       "345420    0.8    1.2  ...  108.0   2.0   0.0          1      NaN    NaN   \n",
       "712798    1.2    1.0  ...   20.0   1.0   1.0          0      NaN    NaN   \n",
       "639021    0.8    0.7  ...   21.0   1.0   0.0          0      NaN    NaN   \n",
       "\n",
       "        치아마모증유무  제3대구치(사랑니)이상   치석   데이터공개일자  \n",
       "972712      NaN           NaN  NaN  20181126  \n",
       "837644      NaN           NaN  1.0  20181126  \n",
       "345420      NaN           NaN  0.0  20181126  \n",
       "712798      NaN           NaN  NaN  20181126  \n",
       "639021      NaN           NaN  NaN  20181126  \n",
       "\n",
       "[5 rows x 34 columns]"
      ]
     },
     "execution_count": 15,
     "metadata": {},
     "output_type": "execute_result"
    }
   ],
   "source": [
    "# sample, head, tail을 통해 데이터를 미리보기 합니다.\n",
    "df.sample(5)"
   ]
  },
  {
   "cell_type": "code",
   "execution_count": 16,
   "metadata": {},
   "outputs": [
    {
     "data": {
      "text/html": [
       "<div>\n",
       "<style scoped>\n",
       "    .dataframe tbody tr th:only-of-type {\n",
       "        vertical-align: middle;\n",
       "    }\n",
       "\n",
       "    .dataframe tbody tr th {\n",
       "        vertical-align: top;\n",
       "    }\n",
       "\n",
       "    .dataframe thead th {\n",
       "        text-align: right;\n",
       "    }\n",
       "</style>\n",
       "<table border=\"1\" class=\"dataframe\">\n",
       "  <thead>\n",
       "    <tr style=\"text-align: right;\">\n",
       "      <th></th>\n",
       "      <th>기준년도</th>\n",
       "      <th>가입자일련번호</th>\n",
       "      <th>성별코드</th>\n",
       "      <th>연령대코드(5세단위)</th>\n",
       "      <th>시도코드</th>\n",
       "      <th>신장(5Cm단위)</th>\n",
       "      <th>체중(5Kg 단위)</th>\n",
       "      <th>허리둘레</th>\n",
       "      <th>시력(좌)</th>\n",
       "      <th>시력(우)</th>\n",
       "      <th>...</th>\n",
       "      <th>감마지티피</th>\n",
       "      <th>흡연상태</th>\n",
       "      <th>음주여부</th>\n",
       "      <th>구강검진 수검여부</th>\n",
       "      <th>치아우식증유무</th>\n",
       "      <th>결손치유무</th>\n",
       "      <th>치아마모증유무</th>\n",
       "      <th>제3대구치(사랑니)이상</th>\n",
       "      <th>치석</th>\n",
       "      <th>데이터공개일자</th>\n",
       "    </tr>\n",
       "  </thead>\n",
       "  <tbody>\n",
       "    <tr>\n",
       "      <th>0</th>\n",
       "      <td>2017</td>\n",
       "      <td>1</td>\n",
       "      <td>1</td>\n",
       "      <td>13</td>\n",
       "      <td>46</td>\n",
       "      <td>170.0</td>\n",
       "      <td>65.0</td>\n",
       "      <td>91.0</td>\n",
       "      <td>1.0</td>\n",
       "      <td>1.2</td>\n",
       "      <td>...</td>\n",
       "      <td>25.0</td>\n",
       "      <td>3.0</td>\n",
       "      <td>0.0</td>\n",
       "      <td>1</td>\n",
       "      <td>NaN</td>\n",
       "      <td>NaN</td>\n",
       "      <td>NaN</td>\n",
       "      <td>NaN</td>\n",
       "      <td>1.0</td>\n",
       "      <td>20181126</td>\n",
       "    </tr>\n",
       "    <tr>\n",
       "      <th>1</th>\n",
       "      <td>2017</td>\n",
       "      <td>2</td>\n",
       "      <td>2</td>\n",
       "      <td>8</td>\n",
       "      <td>41</td>\n",
       "      <td>150.0</td>\n",
       "      <td>45.0</td>\n",
       "      <td>73.4</td>\n",
       "      <td>1.2</td>\n",
       "      <td>1.0</td>\n",
       "      <td>...</td>\n",
       "      <td>10.0</td>\n",
       "      <td>1.0</td>\n",
       "      <td>0.0</td>\n",
       "      <td>1</td>\n",
       "      <td>NaN</td>\n",
       "      <td>NaN</td>\n",
       "      <td>NaN</td>\n",
       "      <td>NaN</td>\n",
       "      <td>1.0</td>\n",
       "      <td>20181126</td>\n",
       "    </tr>\n",
       "    <tr>\n",
       "      <th>2</th>\n",
       "      <td>2017</td>\n",
       "      <td>3</td>\n",
       "      <td>1</td>\n",
       "      <td>8</td>\n",
       "      <td>45</td>\n",
       "      <td>175.0</td>\n",
       "      <td>75.0</td>\n",
       "      <td>94.0</td>\n",
       "      <td>1.0</td>\n",
       "      <td>0.8</td>\n",
       "      <td>...</td>\n",
       "      <td>136.0</td>\n",
       "      <td>1.0</td>\n",
       "      <td>0.0</td>\n",
       "      <td>1</td>\n",
       "      <td>NaN</td>\n",
       "      <td>NaN</td>\n",
       "      <td>NaN</td>\n",
       "      <td>NaN</td>\n",
       "      <td>0.0</td>\n",
       "      <td>20181126</td>\n",
       "    </tr>\n",
       "    <tr>\n",
       "      <th>3</th>\n",
       "      <td>2017</td>\n",
       "      <td>4</td>\n",
       "      <td>2</td>\n",
       "      <td>12</td>\n",
       "      <td>11</td>\n",
       "      <td>155.0</td>\n",
       "      <td>55.0</td>\n",
       "      <td>67.5</td>\n",
       "      <td>0.9</td>\n",
       "      <td>1.0</td>\n",
       "      <td>...</td>\n",
       "      <td>30.0</td>\n",
       "      <td>1.0</td>\n",
       "      <td>1.0</td>\n",
       "      <td>0</td>\n",
       "      <td>NaN</td>\n",
       "      <td>NaN</td>\n",
       "      <td>NaN</td>\n",
       "      <td>NaN</td>\n",
       "      <td>NaN</td>\n",
       "      <td>20181126</td>\n",
       "    </tr>\n",
       "    <tr>\n",
       "      <th>4</th>\n",
       "      <td>2017</td>\n",
       "      <td>5</td>\n",
       "      <td>1</td>\n",
       "      <td>8</td>\n",
       "      <td>41</td>\n",
       "      <td>175.0</td>\n",
       "      <td>75.0</td>\n",
       "      <td>93.0</td>\n",
       "      <td>1.5</td>\n",
       "      <td>1.5</td>\n",
       "      <td>...</td>\n",
       "      <td>68.0</td>\n",
       "      <td>3.0</td>\n",
       "      <td>0.0</td>\n",
       "      <td>0</td>\n",
       "      <td>NaN</td>\n",
       "      <td>NaN</td>\n",
       "      <td>NaN</td>\n",
       "      <td>NaN</td>\n",
       "      <td>NaN</td>\n",
       "      <td>20181126</td>\n",
       "    </tr>\n",
       "  </tbody>\n",
       "</table>\n",
       "<p>5 rows × 34 columns</p>\n",
       "</div>"
      ],
      "text/plain": [
       "   기준년도  가입자일련번호  성별코드  연령대코드(5세단위)  시도코드  신장(5Cm단위)  체중(5Kg 단위)  허리둘레  시력(좌)  \\\n",
       "0  2017        1     1           13    46      170.0        65.0  91.0    1.0   \n",
       "1  2017        2     2            8    41      150.0        45.0  73.4    1.2   \n",
       "2  2017        3     1            8    45      175.0        75.0  94.0    1.0   \n",
       "3  2017        4     2           12    11      155.0        55.0  67.5    0.9   \n",
       "4  2017        5     1            8    41      175.0        75.0  93.0    1.5   \n",
       "\n",
       "   시력(우)  ...  감마지티피  흡연상태  음주여부  구강검진 수검여부  치아우식증유무  결손치유무  치아마모증유무  \\\n",
       "0    1.2  ...   25.0   3.0   0.0          1      NaN    NaN      NaN   \n",
       "1    1.0  ...   10.0   1.0   0.0          1      NaN    NaN      NaN   \n",
       "2    0.8  ...  136.0   1.0   0.0          1      NaN    NaN      NaN   \n",
       "3    1.0  ...   30.0   1.0   1.0          0      NaN    NaN      NaN   \n",
       "4    1.5  ...   68.0   3.0   0.0          0      NaN    NaN      NaN   \n",
       "\n",
       "   제3대구치(사랑니)이상   치석   데이터공개일자  \n",
       "0           NaN  1.0  20181126  \n",
       "1           NaN  1.0  20181126  \n",
       "2           NaN  0.0  20181126  \n",
       "3           NaN  NaN  20181126  \n",
       "4           NaN  NaN  20181126  \n",
       "\n",
       "[5 rows x 34 columns]"
      ]
     },
     "execution_count": 16,
     "metadata": {},
     "output_type": "execute_result"
    }
   ],
   "source": [
    "df.head()"
   ]
  },
  {
   "cell_type": "code",
   "execution_count": 17,
   "metadata": {},
   "outputs": [
    {
     "data": {
      "text/html": [
       "<div>\n",
       "<style scoped>\n",
       "    .dataframe tbody tr th:only-of-type {\n",
       "        vertical-align: middle;\n",
       "    }\n",
       "\n",
       "    .dataframe tbody tr th {\n",
       "        vertical-align: top;\n",
       "    }\n",
       "\n",
       "    .dataframe thead th {\n",
       "        text-align: right;\n",
       "    }\n",
       "</style>\n",
       "<table border=\"1\" class=\"dataframe\">\n",
       "  <thead>\n",
       "    <tr style=\"text-align: right;\">\n",
       "      <th></th>\n",
       "      <th>기준년도</th>\n",
       "      <th>가입자일련번호</th>\n",
       "      <th>성별코드</th>\n",
       "      <th>연령대코드(5세단위)</th>\n",
       "      <th>시도코드</th>\n",
       "      <th>신장(5Cm단위)</th>\n",
       "      <th>체중(5Kg 단위)</th>\n",
       "      <th>허리둘레</th>\n",
       "      <th>시력(좌)</th>\n",
       "      <th>시력(우)</th>\n",
       "      <th>...</th>\n",
       "      <th>감마지티피</th>\n",
       "      <th>흡연상태</th>\n",
       "      <th>음주여부</th>\n",
       "      <th>구강검진 수검여부</th>\n",
       "      <th>치아우식증유무</th>\n",
       "      <th>결손치유무</th>\n",
       "      <th>치아마모증유무</th>\n",
       "      <th>제3대구치(사랑니)이상</th>\n",
       "      <th>치석</th>\n",
       "      <th>데이터공개일자</th>\n",
       "    </tr>\n",
       "  </thead>\n",
       "  <tbody>\n",
       "    <tr>\n",
       "      <th>999995</th>\n",
       "      <td>2017</td>\n",
       "      <td>999996</td>\n",
       "      <td>2</td>\n",
       "      <td>9</td>\n",
       "      <td>41</td>\n",
       "      <td>165.0</td>\n",
       "      <td>55.0</td>\n",
       "      <td>70.0</td>\n",
       "      <td>1.5</td>\n",
       "      <td>1.5</td>\n",
       "      <td>...</td>\n",
       "      <td>11.0</td>\n",
       "      <td>1.0</td>\n",
       "      <td>1.0</td>\n",
       "      <td>0</td>\n",
       "      <td>NaN</td>\n",
       "      <td>NaN</td>\n",
       "      <td>NaN</td>\n",
       "      <td>NaN</td>\n",
       "      <td>NaN</td>\n",
       "      <td>20181126</td>\n",
       "    </tr>\n",
       "    <tr>\n",
       "      <th>999996</th>\n",
       "      <td>2017</td>\n",
       "      <td>999997</td>\n",
       "      <td>2</td>\n",
       "      <td>9</td>\n",
       "      <td>11</td>\n",
       "      <td>165.0</td>\n",
       "      <td>50.0</td>\n",
       "      <td>68.0</td>\n",
       "      <td>1.2</td>\n",
       "      <td>1.5</td>\n",
       "      <td>...</td>\n",
       "      <td>11.0</td>\n",
       "      <td>1.0</td>\n",
       "      <td>0.0</td>\n",
       "      <td>1</td>\n",
       "      <td>NaN</td>\n",
       "      <td>NaN</td>\n",
       "      <td>NaN</td>\n",
       "      <td>NaN</td>\n",
       "      <td>0.0</td>\n",
       "      <td>20181126</td>\n",
       "    </tr>\n",
       "    <tr>\n",
       "      <th>999997</th>\n",
       "      <td>2017</td>\n",
       "      <td>999998</td>\n",
       "      <td>2</td>\n",
       "      <td>12</td>\n",
       "      <td>27</td>\n",
       "      <td>155.0</td>\n",
       "      <td>50.0</td>\n",
       "      <td>83.8</td>\n",
       "      <td>0.2</td>\n",
       "      <td>1.0</td>\n",
       "      <td>...</td>\n",
       "      <td>12.0</td>\n",
       "      <td>1.0</td>\n",
       "      <td>0.0</td>\n",
       "      <td>1</td>\n",
       "      <td>NaN</td>\n",
       "      <td>NaN</td>\n",
       "      <td>NaN</td>\n",
       "      <td>NaN</td>\n",
       "      <td>0.0</td>\n",
       "      <td>20181126</td>\n",
       "    </tr>\n",
       "    <tr>\n",
       "      <th>999998</th>\n",
       "      <td>2017</td>\n",
       "      <td>999999</td>\n",
       "      <td>1</td>\n",
       "      <td>11</td>\n",
       "      <td>47</td>\n",
       "      <td>160.0</td>\n",
       "      <td>70.0</td>\n",
       "      <td>99.0</td>\n",
       "      <td>0.8</td>\n",
       "      <td>0.9</td>\n",
       "      <td>...</td>\n",
       "      <td>35.0</td>\n",
       "      <td>2.0</td>\n",
       "      <td>1.0</td>\n",
       "      <td>0</td>\n",
       "      <td>NaN</td>\n",
       "      <td>NaN</td>\n",
       "      <td>NaN</td>\n",
       "      <td>NaN</td>\n",
       "      <td>NaN</td>\n",
       "      <td>20181126</td>\n",
       "    </tr>\n",
       "    <tr>\n",
       "      <th>999999</th>\n",
       "      <td>2017</td>\n",
       "      <td>1000000</td>\n",
       "      <td>2</td>\n",
       "      <td>9</td>\n",
       "      <td>27</td>\n",
       "      <td>165.0</td>\n",
       "      <td>60.0</td>\n",
       "      <td>74.0</td>\n",
       "      <td>1.2</td>\n",
       "      <td>1.2</td>\n",
       "      <td>...</td>\n",
       "      <td>15.0</td>\n",
       "      <td>1.0</td>\n",
       "      <td>0.0</td>\n",
       "      <td>0</td>\n",
       "      <td>NaN</td>\n",
       "      <td>NaN</td>\n",
       "      <td>NaN</td>\n",
       "      <td>NaN</td>\n",
       "      <td>NaN</td>\n",
       "      <td>20181126</td>\n",
       "    </tr>\n",
       "  </tbody>\n",
       "</table>\n",
       "<p>5 rows × 34 columns</p>\n",
       "</div>"
      ],
      "text/plain": [
       "        기준년도  가입자일련번호  성별코드  연령대코드(5세단위)  시도코드  신장(5Cm단위)  체중(5Kg 단위)  허리둘레  \\\n",
       "999995  2017   999996     2            9    41      165.0        55.0  70.0   \n",
       "999996  2017   999997     2            9    11      165.0        50.0  68.0   \n",
       "999997  2017   999998     2           12    27      155.0        50.0  83.8   \n",
       "999998  2017   999999     1           11    47      160.0        70.0  99.0   \n",
       "999999  2017  1000000     2            9    27      165.0        60.0  74.0   \n",
       "\n",
       "        시력(좌)  시력(우)  ...  감마지티피  흡연상태  음주여부  구강검진 수검여부  치아우식증유무  결손치유무  \\\n",
       "999995    1.5    1.5  ...   11.0   1.0   1.0          0      NaN    NaN   \n",
       "999996    1.2    1.5  ...   11.0   1.0   0.0          1      NaN    NaN   \n",
       "999997    0.2    1.0  ...   12.0   1.0   0.0          1      NaN    NaN   \n",
       "999998    0.8    0.9  ...   35.0   2.0   1.0          0      NaN    NaN   \n",
       "999999    1.2    1.2  ...   15.0   1.0   0.0          0      NaN    NaN   \n",
       "\n",
       "        치아마모증유무  제3대구치(사랑니)이상   치석   데이터공개일자  \n",
       "999995      NaN           NaN  NaN  20181126  \n",
       "999996      NaN           NaN  0.0  20181126  \n",
       "999997      NaN           NaN  0.0  20181126  \n",
       "999998      NaN           NaN  NaN  20181126  \n",
       "999999      NaN           NaN  NaN  20181126  \n",
       "\n",
       "[5 rows x 34 columns]"
      ]
     },
     "execution_count": 17,
     "metadata": {},
     "output_type": "execute_result"
    }
   ],
   "source": [
    "df.tail()"
   ]
  },
  {
   "cell_type": "markdown",
   "metadata": {},
   "source": [
    "## 기본정보 보기"
   ]
  },
  {
   "cell_type": "code",
   "execution_count": 18,
   "metadata": {
    "scrolled": false
   },
   "outputs": [
    {
     "name": "stdout",
     "output_type": "stream",
     "text": [
      "<class 'pandas.core.frame.DataFrame'>\n",
      "RangeIndex: 1000000 entries, 0 to 999999\n",
      "Data columns (total 34 columns):\n",
      " #   Column        Non-Null Count    Dtype  \n",
      "---  ------        --------------    -----  \n",
      " 0   기준년도          1000000 non-null  int64  \n",
      " 1   가입자일련번호       1000000 non-null  int64  \n",
      " 2   성별코드          1000000 non-null  int64  \n",
      " 3   연령대코드(5세단위)   1000000 non-null  int64  \n",
      " 4   시도코드          1000000 non-null  int64  \n",
      " 5   신장(5Cm단위)     999738 non-null   float64\n",
      " 6   체중(5Kg 단위)    999732 non-null   float64\n",
      " 7   허리둘레          999560 non-null   float64\n",
      " 8   시력(좌)         999712 non-null   float64\n",
      " 9   시력(우)         999721 non-null   float64\n",
      " 10  청력(좌)         999758 non-null   float64\n",
      " 11  청력(우)         999757 non-null   float64\n",
      " 12  수축기혈압         999924 non-null   float64\n",
      " 13  이완기혈압         999923 non-null   float64\n",
      " 14  식전혈당(공복혈당)    999957 non-null   float64\n",
      " 15  총콜레스테롤        999957 non-null   float64\n",
      " 16  트리글리세라이드      999957 non-null   float64\n",
      " 17  HDL콜레스테롤      999956 non-null   float64\n",
      " 18  LDL콜레스테롤      997101 non-null   float64\n",
      " 19  혈색소           999944 non-null   float64\n",
      " 20  요단백           995141 non-null   float64\n",
      " 21  혈청크레아티닌       999956 non-null   float64\n",
      " 22  (혈청지오티)AST    999958 non-null   float64\n",
      " 23  (혈청지오티)ALT    999956 non-null   float64\n",
      " 24  감마지티피         999955 non-null   float64\n",
      " 25  흡연상태          999840 non-null   float64\n",
      " 26  음주여부          999475 non-null   float64\n",
      " 27  구강검진 수검여부     1000000 non-null  int64  \n",
      " 28  치아우식증유무       0 non-null        float64\n",
      " 29  결손치유무         0 non-null        float64\n",
      " 30  치아마모증유무       0 non-null        float64\n",
      " 31  제3대구치(사랑니)이상  0 non-null        float64\n",
      " 32  치석            398748 non-null   float64\n",
      " 33  데이터공개일자       1000000 non-null  int64  \n",
      "dtypes: float64(27), int64(7)\n",
      "memory usage: 259.4 MB\n"
     ]
    }
   ],
   "source": [
    "# info를 통해 데이터의 크기, 형식, 메모리 사용량 등을 봅니다.\n",
    "df.info()"
   ]
  },
  {
   "cell_type": "code",
   "execution_count": 39,
   "metadata": {},
   "outputs": [
    {
     "data": {
      "text/plain": [
       "(array([2017], dtype=int64),\n",
       " array([      1,       2,       3, ...,  999998,  999999, 1000000],\n",
       "       dtype=int64),\n",
       " array([1, 2], dtype=int64),\n",
       " array([ 0.,  1., nan]))"
      ]
     },
     "execution_count": 39,
     "metadata": {},
     "output_type": "execute_result"
    }
   ],
   "source": [
    "df[\"기준년도\"].unique(), df[\"가입자일련번호\"].unique(), df[\"성별코드\"].unique(), df[\"음주여부\"].unique()"
   ]
  },
  {
   "cell_type": "code",
   "execution_count": 19,
   "metadata": {
    "scrolled": true
   },
   "outputs": [
    {
     "data": {
      "text/plain": [
       "Index(['기준년도', '가입자일련번호', '성별코드', '연령대코드(5세단위)', '시도코드', '신장(5Cm단위)',\n",
       "       '체중(5Kg 단위)', '허리둘레', '시력(좌)', '시력(우)', '청력(좌)', '청력(우)', '수축기혈압',\n",
       "       '이완기혈압', '식전혈당(공복혈당)', '총콜레스테롤', '트리글리세라이드', 'HDL콜레스테롤', 'LDL콜레스테롤',\n",
       "       '혈색소', '요단백', '혈청크레아티닌', '(혈청지오티)AST', '(혈청지오티)ALT', '감마지티피', '흡연상태',\n",
       "       '음주여부', '구강검진 수검여부', '치아우식증유무', '결손치유무', '치아마모증유무', '제3대구치(사랑니)이상',\n",
       "       '치석', '데이터공개일자'],\n",
       "      dtype='object')"
      ]
     },
     "execution_count": 19,
     "metadata": {},
     "output_type": "execute_result"
    }
   ],
   "source": [
    "# 컬럼의 수가 많습니다. 컬럼만 따로 출력합니다.\n",
    "df.columns\n"
   ]
  },
  {
   "cell_type": "code",
   "execution_count": 20,
   "metadata": {},
   "outputs": [
    {
     "data": {
      "text/plain": [
       "기준년도              int64\n",
       "가입자일련번호           int64\n",
       "성별코드              int64\n",
       "연령대코드(5세단위)       int64\n",
       "시도코드              int64\n",
       "신장(5Cm단위)       float64\n",
       "체중(5Kg 단위)      float64\n",
       "허리둘레            float64\n",
       "시력(좌)           float64\n",
       "시력(우)           float64\n",
       "청력(좌)           float64\n",
       "청력(우)           float64\n",
       "수축기혈압           float64\n",
       "이완기혈압           float64\n",
       "식전혈당(공복혈당)      float64\n",
       "총콜레스테롤          float64\n",
       "트리글리세라이드        float64\n",
       "HDL콜레스테롤        float64\n",
       "LDL콜레스테롤        float64\n",
       "혈색소             float64\n",
       "요단백             float64\n",
       "혈청크레아티닌         float64\n",
       "(혈청지오티)AST      float64\n",
       "(혈청지오티)ALT      float64\n",
       "감마지티피           float64\n",
       "흡연상태            float64\n",
       "음주여부            float64\n",
       "구강검진 수검여부         int64\n",
       "치아우식증유무         float64\n",
       "결손치유무           float64\n",
       "치아마모증유무         float64\n",
       "제3대구치(사랑니)이상    float64\n",
       "치석              float64\n",
       "데이터공개일자           int64\n",
       "dtype: object"
      ]
     },
     "execution_count": 20,
     "metadata": {},
     "output_type": "execute_result"
    }
   ],
   "source": [
    "# dtypes 를 통해 데이터 형식만 출력합니다.\n",
    "df.dtypes\n"
   ]
  },
  {
   "cell_type": "markdown",
   "metadata": {},
   "source": [
    "## 결측치 보기"
   ]
  },
  {
   "cell_type": "code",
   "execution_count": 21,
   "metadata": {},
   "outputs": [
    {
     "data": {
      "text/plain": [
       "기준년도                  0\n",
       "가입자일련번호               0\n",
       "성별코드                  0\n",
       "연령대코드(5세단위)           0\n",
       "시도코드                  0\n",
       "신장(5Cm단위)           262\n",
       "체중(5Kg 단위)          268\n",
       "허리둘레                440\n",
       "시력(좌)               288\n",
       "시력(우)               279\n",
       "청력(좌)               242\n",
       "청력(우)               243\n",
       "수축기혈압                76\n",
       "이완기혈압                77\n",
       "식전혈당(공복혈당)           43\n",
       "총콜레스테롤               43\n",
       "트리글리세라이드             43\n",
       "HDL콜레스테롤             44\n",
       "LDL콜레스테롤           2899\n",
       "혈색소                  56\n",
       "요단백                4859\n",
       "혈청크레아티닌              44\n",
       "(혈청지오티)AST           42\n",
       "(혈청지오티)ALT           44\n",
       "감마지티피                45\n",
       "흡연상태                160\n",
       "음주여부                525\n",
       "구강검진 수검여부             0\n",
       "치아우식증유무         1000000\n",
       "결손치유무           1000000\n",
       "치아마모증유무         1000000\n",
       "제3대구치(사랑니)이상    1000000\n",
       "치석               601252\n",
       "데이터공개일자               0\n",
       "dtype: int64"
      ]
     },
     "execution_count": 21,
     "metadata": {},
     "output_type": "execute_result"
    }
   ],
   "source": [
    "# isnull 을 통해 결측치를 bool 값으로 표시하고 sum을 하면 컬럼마다의 결측치 수를 세어줍니다.\n",
    "df.isnull().sum()\n"
   ]
  },
  {
   "cell_type": "code",
   "execution_count": 22,
   "metadata": {},
   "outputs": [
    {
     "data": {
      "text/plain": [
       "기준년도                  0\n",
       "가입자일련번호               0\n",
       "성별코드                  0\n",
       "연령대코드(5세단위)           0\n",
       "시도코드                  0\n",
       "신장(5Cm단위)           262\n",
       "체중(5Kg 단위)          268\n",
       "허리둘레                440\n",
       "시력(좌)               288\n",
       "시력(우)               279\n",
       "청력(좌)               242\n",
       "청력(우)               243\n",
       "수축기혈압                76\n",
       "이완기혈압                77\n",
       "식전혈당(공복혈당)           43\n",
       "총콜레스테롤               43\n",
       "트리글리세라이드             43\n",
       "HDL콜레스테롤             44\n",
       "LDL콜레스테롤           2899\n",
       "혈색소                  56\n",
       "요단백                4859\n",
       "혈청크레아티닌              44\n",
       "(혈청지오티)AST           42\n",
       "(혈청지오티)ALT           44\n",
       "감마지티피                45\n",
       "흡연상태                160\n",
       "음주여부                525\n",
       "구강검진 수검여부             0\n",
       "치아우식증유무         1000000\n",
       "결손치유무           1000000\n",
       "치아마모증유무         1000000\n",
       "제3대구치(사랑니)이상    1000000\n",
       "치석               601252\n",
       "데이터공개일자               0\n",
       "dtype: int64"
      ]
     },
     "execution_count": 22,
     "metadata": {},
     "output_type": "execute_result"
    }
   ],
   "source": [
    "# isna로도 결측치 여부를 확인하고 sum을 통해 결측치 수를 집계할 수 있습니다.\n",
    "df.isna().sum()\n"
   ]
  },
  {
   "cell_type": "code",
   "execution_count": 24,
   "metadata": {},
   "outputs": [
    {
     "data": {
      "text/plain": [
       "<Axes: >"
      ]
     },
     "execution_count": 24,
     "metadata": {},
     "output_type": "execute_result"
    },
    {
     "data": {
      "image/png": "[encoded data removed]",
      "text/plain": [
       "<Figure size 1000x800 with 1 Axes>"
      ]
     },
     "metadata": {
      "image/png": {
       "height": 673,
       "width": 950
      }
     },
     "output_type": "display_data"
    }
   ],
   "source": [
    "# 판다스에 내장 된 plot을 통해 시각화를 합니다.\n",
    "df.isna().sum().plot.barh(figsize=(10, 8))\n"
   ]
  },
  {
   "cell_type": "markdown",
   "metadata": {},
   "source": [
    "## 일부 데이터 요약하기"
   ]
  },
  {
   "cell_type": "code",
   "execution_count": 25,
   "metadata": {},
   "outputs": [
    {
     "data": {
      "text/html": [
       "<div>\n",
       "<style scoped>\n",
       "    .dataframe tbody tr th:only-of-type {\n",
       "        vertical-align: middle;\n",
       "    }\n",
       "\n",
       "    .dataframe tbody tr th {\n",
       "        vertical-align: top;\n",
       "    }\n",
       "\n",
       "    .dataframe thead th {\n",
       "        text-align: right;\n",
       "    }\n",
       "</style>\n",
       "<table border=\"1\" class=\"dataframe\">\n",
       "  <thead>\n",
       "    <tr style=\"text-align: right;\">\n",
       "      <th></th>\n",
       "      <th>(혈청지오티)ALT</th>\n",
       "      <th>(혈청지오티)AST</th>\n",
       "    </tr>\n",
       "  </thead>\n",
       "  <tbody>\n",
       "    <tr>\n",
       "      <th>0</th>\n",
       "      <td>41.0</td>\n",
       "      <td>19.0</td>\n",
       "    </tr>\n",
       "    <tr>\n",
       "      <th>1</th>\n",
       "      <td>13.0</td>\n",
       "      <td>16.0</td>\n",
       "    </tr>\n",
       "    <tr>\n",
       "      <th>2</th>\n",
       "      <td>62.0</td>\n",
       "      <td>45.0</td>\n",
       "    </tr>\n",
       "    <tr>\n",
       "      <th>3</th>\n",
       "      <td>24.0</td>\n",
       "      <td>21.0</td>\n",
       "    </tr>\n",
       "    <tr>\n",
       "      <th>4</th>\n",
       "      <td>62.0</td>\n",
       "      <td>37.0</td>\n",
       "    </tr>\n",
       "  </tbody>\n",
       "</table>\n",
       "</div>"
      ],
      "text/plain": [
       "   (혈청지오티)ALT  (혈청지오티)AST\n",
       "0        41.0        19.0\n",
       "1        13.0        16.0\n",
       "2        62.0        45.0\n",
       "3        24.0        21.0\n",
       "4        62.0        37.0"
      ]
     },
     "execution_count": 25,
     "metadata": {},
     "output_type": "execute_result"
    }
   ],
   "source": [
    "# 여러 컬럼을 가져옵니다. \n",
    "# \"(혈청지오티)ALT\", \"(혈청지오티)AST\" 를 가져와 미리보기 합니다.\n",
    "df[[\"(혈청지오티)ALT\", \"(혈청지오티)AST\"]].head()"
   ]
  },
  {
   "cell_type": "code",
   "execution_count": 26,
   "metadata": {
    "scrolled": true
   },
   "outputs": [
    {
     "data": {
      "text/html": [
       "<div>\n",
       "<style scoped>\n",
       "    .dataframe tbody tr th:only-of-type {\n",
       "        vertical-align: middle;\n",
       "    }\n",
       "\n",
       "    .dataframe tbody tr th {\n",
       "        vertical-align: top;\n",
       "    }\n",
       "\n",
       "    .dataframe thead th {\n",
       "        text-align: right;\n",
       "    }\n",
       "</style>\n",
       "<table border=\"1\" class=\"dataframe\">\n",
       "  <thead>\n",
       "    <tr style=\"text-align: right;\">\n",
       "      <th></th>\n",
       "      <th>(혈청지오티)ALT</th>\n",
       "      <th>(혈청지오티)AST</th>\n",
       "    </tr>\n",
       "  </thead>\n",
       "  <tbody>\n",
       "    <tr>\n",
       "      <th>count</th>\n",
       "      <td>999956.000000</td>\n",
       "      <td>999958.000000</td>\n",
       "    </tr>\n",
       "    <tr>\n",
       "      <th>mean</th>\n",
       "      <td>25.859343</td>\n",
       "      <td>26.075068</td>\n",
       "    </tr>\n",
       "    <tr>\n",
       "      <th>std</th>\n",
       "      <td>25.814268</td>\n",
       "      <td>24.437136</td>\n",
       "    </tr>\n",
       "    <tr>\n",
       "      <th>min</th>\n",
       "      <td>1.000000</td>\n",
       "      <td>1.000000</td>\n",
       "    </tr>\n",
       "    <tr>\n",
       "      <th>25%</th>\n",
       "      <td>15.000000</td>\n",
       "      <td>19.000000</td>\n",
       "    </tr>\n",
       "    <tr>\n",
       "      <th>50%</th>\n",
       "      <td>20.000000</td>\n",
       "      <td>23.000000</td>\n",
       "    </tr>\n",
       "    <tr>\n",
       "      <th>75%</th>\n",
       "      <td>30.000000</td>\n",
       "      <td>28.000000</td>\n",
       "    </tr>\n",
       "    <tr>\n",
       "      <th>max</th>\n",
       "      <td>6710.000000</td>\n",
       "      <td>9999.000000</td>\n",
       "    </tr>\n",
       "  </tbody>\n",
       "</table>\n",
       "</div>"
      ],
      "text/plain": [
       "          (혈청지오티)ALT     (혈청지오티)AST\n",
       "count  999956.000000  999958.000000\n",
       "mean       25.859343      26.075068\n",
       "std        25.814268      24.437136\n",
       "min         1.000000       1.000000\n",
       "25%        15.000000      19.000000\n",
       "50%        20.000000      23.000000\n",
       "75%        30.000000      28.000000\n",
       "max      6710.000000    9999.000000"
      ]
     },
     "execution_count": 26,
     "metadata": {},
     "output_type": "execute_result"
    }
   ],
   "source": [
    "# \"(혈청지오티)ALT\", \"(혈청지오티)AST\" 를 요약합니다.\n",
    "df[[\"(혈청지오티)ALT\", \"(혈청지오티)AST\"]].describe()\n"
   ]
  },
  {
   "cell_type": "markdown",
   "metadata": {},
   "source": [
    "## value_counts 로 값 집계하기"
   ]
  },
  {
   "cell_type": "code",
   "execution_count": 27,
   "metadata": {},
   "outputs": [
    {
     "data": {
      "text/plain": [
       "1    531172\n",
       "2    468828\n",
       "Name: 성별코드, dtype: int64"
      ]
     },
     "execution_count": 27,
     "metadata": {},
     "output_type": "execute_result"
    }
   ],
   "source": [
    "# value_counts 를 통해 성별코드로 그룹화 하고 갯수를 집계합니다.\n",
    "# 성별코드: 1 - 남자, 2 - 여자\n",
    "df[\"성별코드\"].value_counts()\n"
   ]
  },
  {
   "cell_type": "code",
   "execution_count": 29,
   "metadata": {},
   "outputs": [
    {
     "data": {
      "text/plain": [
       "1.0    608587\n",
       "3.0    215061\n",
       "2.0    176192\n",
       "Name: 흡연상태, dtype: int64"
      ]
     },
     "execution_count": 29,
     "metadata": {},
     "output_type": "execute_result"
    }
   ],
   "source": [
    "# value_counts 를 통해 흡연상태로 그룹화 하고 갯수를 집계합니다.\n",
    "df[\"흡연상태\"].value_counts()\n"
   ]
  },
  {
   "cell_type": "markdown",
   "metadata": {},
   "source": [
    "## groupby 와 pivot_table 사용하기"
   ]
  },
  {
   "cell_type": "markdown",
   "metadata": {},
   "source": [
    "### groupby"
   ]
  },
  {
   "cell_type": "code",
   "execution_count": 33,
   "metadata": {},
   "outputs": [
    {
     "data": {
      "text/plain": [
       "성별코드\n",
       "1    531172\n",
       "2    468828\n",
       "Name: 가입자일련번호, dtype: int64"
      ]
     },
     "execution_count": 33,
     "metadata": {},
     "output_type": "execute_result"
    }
   ],
   "source": [
    "# groupby를 통해 데이터를 그룹화 합니다.\n",
    "# 성별코드로 그룹화 한 데이터를 세어 봅니다.\n",
    "# 성별코드: 1 - 남자, 2 - 여자\n",
    "df.groupby([\"성별코드\"])[\"가입자일련번호\"].count()\n"
   ]
  },
  {
   "cell_type": "code",
   "execution_count": 38,
   "metadata": {},
   "outputs": [
    {
     "data": {
      "text/plain": [
       "성별코드  음주여부\n",
       "1     0.0     175150\n",
       "      1.0     355826\n",
       "2     0.0     327579\n",
       "      1.0     140920\n",
       "Name: 가입자일련번호, dtype: int64"
      ]
     },
     "execution_count": 38,
     "metadata": {},
     "output_type": "execute_result"
    }
   ],
   "source": [
    "# 성별코드와 음주여부로 그룹화를 하고 갯수를 세어봅니다.\n",
    "df.groupby([\"성별코드\", \"음주여부\"])[\"가입자일련번호\"].count()"
   ]
  },
  {
   "cell_type": "code",
   "execution_count": 40,
   "metadata": {
    "scrolled": true
   },
   "outputs": [
    {
     "data": {
      "text/plain": [
       "성별코드  음주여부\n",
       "1     0.0     34.710544\n",
       "      1.0     56.707919\n",
       "2     0.0     22.660238\n",
       "      1.0     25.115149\n",
       "Name: 감마지티피, dtype: float64"
      ]
     },
     "execution_count": 40,
     "metadata": {},
     "output_type": "execute_result"
    }
   ],
   "source": [
    "# 성별코드와 음주여부로 그룹화를 하고 감마지티피의 평균을 구합니다.\n",
    "df.groupby([\"성별코드\", \"음주여부\"])[\"감마지티피\"].mean()"
   ]
  },
  {
   "cell_type": "code",
   "execution_count": 41,
   "metadata": {},
   "outputs": [
    {
     "data": {
      "text/html": [
       "<div>\n",
       "<style scoped>\n",
       "    .dataframe tbody tr th:only-of-type {\n",
       "        vertical-align: middle;\n",
       "    }\n",
       "\n",
       "    .dataframe tbody tr th {\n",
       "        vertical-align: top;\n",
       "    }\n",
       "\n",
       "    .dataframe thead th {\n",
       "        text-align: right;\n",
       "    }\n",
       "</style>\n",
       "<table border=\"1\" class=\"dataframe\">\n",
       "  <thead>\n",
       "    <tr style=\"text-align: right;\">\n",
       "      <th></th>\n",
       "      <th></th>\n",
       "      <th>count</th>\n",
       "      <th>mean</th>\n",
       "      <th>std</th>\n",
       "      <th>min</th>\n",
       "      <th>25%</th>\n",
       "      <th>50%</th>\n",
       "      <th>75%</th>\n",
       "      <th>max</th>\n",
       "    </tr>\n",
       "    <tr>\n",
       "      <th>성별코드</th>\n",
       "      <th>음주여부</th>\n",
       "      <th></th>\n",
       "      <th></th>\n",
       "      <th></th>\n",
       "      <th></th>\n",
       "      <th></th>\n",
       "      <th></th>\n",
       "      <th></th>\n",
       "      <th></th>\n",
       "    </tr>\n",
       "  </thead>\n",
       "  <tbody>\n",
       "    <tr>\n",
       "      <th rowspan=\"2\" valign=\"top\">1</th>\n",
       "      <th>0.0</th>\n",
       "      <td>175139.0</td>\n",
       "      <td>34.710544</td>\n",
       "      <td>37.715218</td>\n",
       "      <td>1.0</td>\n",
       "      <td>18.0</td>\n",
       "      <td>25.0</td>\n",
       "      <td>38.0</td>\n",
       "      <td>999.0</td>\n",
       "    </tr>\n",
       "    <tr>\n",
       "      <th>1.0</th>\n",
       "      <td>355819.0</td>\n",
       "      <td>56.707919</td>\n",
       "      <td>69.039084</td>\n",
       "      <td>1.0</td>\n",
       "      <td>24.0</td>\n",
       "      <td>37.0</td>\n",
       "      <td>63.0</td>\n",
       "      <td>999.0</td>\n",
       "    </tr>\n",
       "    <tr>\n",
       "      <th rowspan=\"2\" valign=\"top\">2</th>\n",
       "      <th>0.0</th>\n",
       "      <td>327559.0</td>\n",
       "      <td>22.660238</td>\n",
       "      <td>25.181300</td>\n",
       "      <td>1.0</td>\n",
       "      <td>13.0</td>\n",
       "      <td>17.0</td>\n",
       "      <td>24.0</td>\n",
       "      <td>999.0</td>\n",
       "    </tr>\n",
       "    <tr>\n",
       "      <th>1.0</th>\n",
       "      <td>140913.0</td>\n",
       "      <td>25.115149</td>\n",
       "      <td>35.870812</td>\n",
       "      <td>1.0</td>\n",
       "      <td>13.0</td>\n",
       "      <td>17.0</td>\n",
       "      <td>25.0</td>\n",
       "      <td>999.0</td>\n",
       "    </tr>\n",
       "  </tbody>\n",
       "</table>\n",
       "</div>"
      ],
      "text/plain": [
       "              count       mean        std  min   25%   50%   75%    max\n",
       "성별코드 음주여부                                                              \n",
       "1    0.0   175139.0  34.710544  37.715218  1.0  18.0  25.0  38.0  999.0\n",
       "     1.0   355819.0  56.707919  69.039084  1.0  24.0  37.0  63.0  999.0\n",
       "2    0.0   327559.0  22.660238  25.181300  1.0  13.0  17.0  24.0  999.0\n",
       "     1.0   140913.0  25.115149  35.870812  1.0  13.0  17.0  25.0  999.0"
      ]
     },
     "execution_count": 41,
     "metadata": {},
     "output_type": "execute_result"
    }
   ],
   "source": [
    "# 성별코드와 음주여부로 그룹화를 하고 감마지티피의 요약수치를 구합니다.\n",
    "df.groupby([\"성별코드\", \"음주여부\"])[\"감마지티피\"].describe()"
   ]
  },
  {
   "cell_type": "code",
   "execution_count": 42,
   "metadata": {},
   "outputs": [
    {
     "data": {
      "text/html": [
       "<div>\n",
       "<style scoped>\n",
       "    .dataframe tbody tr th:only-of-type {\n",
       "        vertical-align: middle;\n",
       "    }\n",
       "\n",
       "    .dataframe tbody tr th {\n",
       "        vertical-align: top;\n",
       "    }\n",
       "\n",
       "    .dataframe thead th {\n",
       "        text-align: right;\n",
       "    }\n",
       "</style>\n",
       "<table border=\"1\" class=\"dataframe\">\n",
       "  <thead>\n",
       "    <tr style=\"text-align: right;\">\n",
       "      <th></th>\n",
       "      <th></th>\n",
       "      <th>count</th>\n",
       "      <th>mean</th>\n",
       "      <th>median</th>\n",
       "    </tr>\n",
       "    <tr>\n",
       "      <th>성별코드</th>\n",
       "      <th>음주여부</th>\n",
       "      <th></th>\n",
       "      <th></th>\n",
       "      <th></th>\n",
       "    </tr>\n",
       "  </thead>\n",
       "  <tbody>\n",
       "    <tr>\n",
       "      <th rowspan=\"2\" valign=\"top\">1</th>\n",
       "      <th>0.0</th>\n",
       "      <td>175139</td>\n",
       "      <td>34.710544</td>\n",
       "      <td>25.0</td>\n",
       "    </tr>\n",
       "    <tr>\n",
       "      <th>1.0</th>\n",
       "      <td>355819</td>\n",
       "      <td>56.707919</td>\n",
       "      <td>37.0</td>\n",
       "    </tr>\n",
       "    <tr>\n",
       "      <th rowspan=\"2\" valign=\"top\">2</th>\n",
       "      <th>0.0</th>\n",
       "      <td>327559</td>\n",
       "      <td>22.660238</td>\n",
       "      <td>17.0</td>\n",
       "    </tr>\n",
       "    <tr>\n",
       "      <th>1.0</th>\n",
       "      <td>140913</td>\n",
       "      <td>25.115149</td>\n",
       "      <td>17.0</td>\n",
       "    </tr>\n",
       "  </tbody>\n",
       "</table>\n",
       "</div>"
      ],
      "text/plain": [
       "            count       mean  median\n",
       "성별코드 음주여부                           \n",
       "1    0.0   175139  34.710544    25.0\n",
       "     1.0   355819  56.707919    37.0\n",
       "2    0.0   327559  22.660238    17.0\n",
       "     1.0   140913  25.115149    17.0"
      ]
     },
     "execution_count": 42,
     "metadata": {},
     "output_type": "execute_result"
    }
   ],
   "source": [
    "# agg을 사용하면 여러 수치를 함께 구할 수 있습니다.\n",
    "df.groupby([\"성별코드\", \"음주여부\"])[\"감마지티피\"].aggregate([\"count\", \"mean\", \"median\"])"
   ]
  },
  {
   "cell_type": "markdown",
   "metadata": {},
   "source": [
    "### pivot_table\n",
    "* https://pandas.pydata.org/pandas-docs/stable/reference/api/pandas.pivot_table.html"
   ]
  },
  {
   "cell_type": "code",
   "execution_count": null,
   "metadata": {
    "scrolled": true
   },
   "outputs": [],
   "source": [
    "# 음주여부에 따른 그룹화된 수를 피봇테이블로 구합니다.\n",
    "df.pivot_table(\"음주여부\", )\n"
   ]
  },
  {
   "cell_type": "code",
   "execution_count": 44,
   "metadata": {},
   "outputs": [],
   "source": [
    "# 음주여부에 따른 감마지티피의 평균을 구합니다."
   ]
  },
  {
   "cell_type": "code",
   "execution_count": null,
   "metadata": {},
   "outputs": [],
   "source": [
    "# 기본값은 평균을 구하지만 aggfunc을 통해 지정해 줄 수도 있습니다.\n"
   ]
  },
  {
   "cell_type": "code",
   "execution_count": null,
   "metadata": {},
   "outputs": [],
   "source": [
    "# aggfunc에 여러 값을 한번에 지정할 수도 있습니다.\n"
   ]
  },
  {
   "cell_type": "code",
   "execution_count": null,
   "metadata": {},
   "outputs": [],
   "source": [
    "# aggfunc에 describe를 사용해 통계요약값을 한번에 볼 수도 있습니다.\n"
   ]
  },
  {
   "cell_type": "code",
   "execution_count": null,
   "metadata": {},
   "outputs": [],
   "source": [
    "# 성별코드, 음주여부에 따른 감마지티피 값의 평균을 구합니다.\n"
   ]
  },
  {
   "cell_type": "markdown",
   "metadata": {},
   "source": [
    "## 전체 데이터 시각화 하기\n",
    "* 100만개가 넘는 데이터를 시각화할 때는 되도록이면 groupby 혹은 pivot_table로 연산을 하고 시각화를 하는 것을 권장합니다.\n",
    "* 100만개가 넘는 데이터를 seaborn과 같은 고급 통계 연산을 하는 그래프를 사용하게 되면 많이 느릴 수 있습니다."
   ]
  },
  {
   "cell_type": "markdown",
   "metadata": {},
   "source": [
    "### 히스토그램\n",
    "* 판다스의 info 기능을 통해 대부분 수치 데이터로 이루어 진것을 확인할 수 있었습니다. \n",
    "* 히스토그램을 사용하면 수치데이터를 bin 의 갯수만큼 그룹화 해서 도수분포표를 만들고 그 결과를 시각화 합니다.\n",
    "* 이 데이터에는 수치데이터가 많기 때문에 판다스의 hist를 사용해서 히스토그램을 그립니다."
   ]
  },
  {
   "cell_type": "code",
   "execution_count": null,
   "metadata": {
    "scrolled": true
   },
   "outputs": [],
   "source": [
    "# 전체 데이터에 대한 히스토그램을 출력합니다.\n",
    "\n"
   ]
  },
  {
   "cell_type": "markdown",
   "metadata": {},
   "source": [
    "### 슬라이싱을 사용해 히스토그램 그리기\n",
    "* 슬라이싱 기능을 사용해서 데이터를 나누어 그립니다.\n",
    "* 슬라이싱 사용시 iloc를 활용하면 인덱스의 순서대로 슬라이싱이 가능합니다.\n",
    "* iloc[행, 열] 순으로 인덱스를 써주면 해당 인덱스만 불러오며, 전체 데이터를 가져오고자 할 때는 [:, :]을 사용합니다.\n",
    "* 슬라이싱을 해주는 대괄호 안의 콜론 앞뒤에 숫자를 써주게 되면 해당 시작인덱스:끝나는인덱스(+1)를 지정할 수 있습니다."
   ]
  },
  {
   "cell_type": "code",
   "execution_count": null,
   "metadata": {},
   "outputs": [],
   "source": [
    "# 슬라이싱을 사용해 앞에서 12개 컬럼에 대한 데이터로 히스토그램을 그립니다.\n",
    "# [행, 열]\n"
   ]
  },
  {
   "cell_type": "code",
   "execution_count": null,
   "metadata": {},
   "outputs": [],
   "source": [
    "# 슬라이싱을 사용해 앞에서 12번째부터 23번째까지(12:24) 컬럼에 대한 데이터로 히스토그램을 그립니다.\n"
   ]
  },
  {
   "cell_type": "code",
   "execution_count": null,
   "metadata": {},
   "outputs": [],
   "source": [
    "# 슬라이싱을 사용해 앞에서 24번째부터 마지막까지(24:) 컬럼에 대한 데이터로 히스토그램을 그립니다.\n"
   ]
  },
  {
   "cell_type": "markdown",
   "metadata": {},
   "source": [
    "\n",
    "## 샘플데이터 추출하기\n",
    "* seaborn 의 그래프는 내부에서 수학적 연산이 되기 때문에 데이터가 많으면 속도가 오래 걸립니다.\n",
    "* 따라서 전체 데이터를 사용하면 너무 느리기 때문에 일부만 샘플링해서 사용합니다."
   ]
  },
  {
   "cell_type": "code",
   "execution_count": null,
   "metadata": {},
   "outputs": [],
   "source": [
    "# df.sample을 통해 일부 데이터만 샘플데이터를 추출합니다. \n",
    "# random_state 를 사용해 샘플링되는 값을 고정할 수 있습니다.\n",
    "# 실험을 통제하기 위해 random_state를 고정하기도 합니다. \n",
    "# 여기에서는 1을 사용하겠습니다. 이 값은 높든 낮든 상관 없이 값을 고정시키는 역할만 합니다.\n",
    "\n"
   ]
  },
  {
   "cell_type": "markdown",
   "metadata": {},
   "source": [
    "## 데이터 시각화 도구 Seaborn 사용하기\n",
    "* https://seaborn.pydata.org/\n",
    "* seaborn 은 https://matplotlib.org/ 을 사용하기 쉽게 만들어 졌으며, 간단하게 고급 통계 연산을 할 수 있습니다."
   ]
  },
  {
   "cell_type": "markdown",
   "metadata": {},
   "source": [
    "## 범주형(카테고리) 데이터 시각화\n",
    "* countplot은 범주형 데이터의 수를 더한 값을 그래프로 표현합니다.\n",
    "* value_counts 로 구한 값을 시각화 한다고 보면 됩니다."
   ]
  },
  {
   "cell_type": "markdown",
   "metadata": {},
   "source": [
    "### countplot - 음주여부"
   ]
  },
  {
   "cell_type": "code",
   "execution_count": null,
   "metadata": {},
   "outputs": [],
   "source": [
    "# 음주여부에 따른 countplot을 그립니다.\n",
    "\n"
   ]
  },
  {
   "cell_type": "code",
   "execution_count": null,
   "metadata": {},
   "outputs": [],
   "source": []
  },
  {
   "cell_type": "markdown",
   "metadata": {},
   "source": [
    "### hue 옵션 사용하기"
   ]
  },
  {
   "cell_type": "code",
   "execution_count": null,
   "metadata": {},
   "outputs": [],
   "source": [
    "# 음주여부에 따른 countplot을 그리고 hue 를 사용해 성별코드로 색상을 구분해 그립니다.\n",
    "# 여기에서 hue는 포토샵에 있는 hue 메뉴를 떠올리면 됩니다. 색상을 의미합니다.\n",
    "# 또, seaborn 에서 제공하는 폰트 설정을 사용하실 수도 있습니다.\n",
    "# 다만, 이 때 seaborn 의 기본 스타일이 적용되는 것을 확인해 주시는 것이 좋습니다.\n",
    "# Mac\n",
    "# sns.set(font_scale=1.5, font=\"AppleGothic\")\n",
    "# Window\n",
    "# sns.set(font_scale=1.5, font=\"Malgun Gothic\")\n"
   ]
  },
  {
   "cell_type": "code",
   "execution_count": null,
   "metadata": {},
   "outputs": [],
   "source": [
    "# countplot으로 연령대별 음주여부를 봅니다.\n",
    "# hue를 사용해 다른 색상으로 표현합니다.\n"
   ]
  },
  {
   "cell_type": "markdown",
   "metadata": {},
   "source": [
    "### countplot - 키와 몸무게\n",
    "* 키와 몸무게는 연속형 데이터라고 볼 수 있습니다. \n",
    "* 하지만 이 데이터는 키는 5cm, 체중은 5kg 단위로 되어 있습니다. \n",
    "* 이렇게 특정 범위로 묶게 되면 연속형 데이터라기 보다는 범주형 데이터라고 볼 수 있습니다."
   ]
  },
  {
   "cell_type": "code",
   "execution_count": null,
   "metadata": {},
   "outputs": [],
   "source": [
    "# counplot으로 키를 봅니다.\n",
    "\n"
   ]
  },
  {
   "cell_type": "code",
   "execution_count": null,
   "metadata": {},
   "outputs": [],
   "source": [
    "# counplot으로 체중을 봅니다.\n"
   ]
  },
  {
   "cell_type": "code",
   "execution_count": null,
   "metadata": {},
   "outputs": [],
   "source": [
    "# counplot으로 신장(5Cm단위)를 봅니다.\n",
    "# 성별에 따른 키의 차이를 봅니다.\n"
   ]
  },
  {
   "cell_type": "code",
   "execution_count": null,
   "metadata": {},
   "outputs": [],
   "source": [
    "# 성별에 따른 체중의 차이를 봅니다.\n",
    "\n"
   ]
  },
  {
   "cell_type": "markdown",
   "metadata": {},
   "source": [
    "### barplot - 수치형 vs 범주형 데이터 시각화"
   ]
  },
  {
   "cell_type": "code",
   "execution_count": null,
   "metadata": {},
   "outputs": [],
   "source": [
    "# 연령대코드와 총 콜레스테롤을 봅니다.\n",
    "# hue 로 색상을 다르게 표현할 수 있습니다. 음주여부를 함께 봅니다.\n"
   ]
  },
  {
   "cell_type": "code",
   "execution_count": null,
   "metadata": {},
   "outputs": [],
   "source": [
    "# 연령대코드와 총 콜레스테롤을 봅니다.\n",
    "# 콜레스테롤과 연령대코드(5세단위)를 흡연상태에 따라 barplot으로 그립니다.\n"
   ]
  },
  {
   "cell_type": "code",
   "execution_count": null,
   "metadata": {},
   "outputs": [],
   "source": [
    "# 트리글리세라이드(중성지방) 에 따른 연령대코드(5세단위)를 음주여부에 따라 barplot으로 그립니다.\n"
   ]
  },
  {
   "cell_type": "code",
   "execution_count": null,
   "metadata": {},
   "outputs": [],
   "source": [
    "# 음주여부와 체중(5Kg 단위)을 성별에 따라 봅니다.\n",
    "\n"
   ]
  },
  {
   "cell_type": "code",
   "execution_count": null,
   "metadata": {},
   "outputs": [],
   "source": [
    "# 연령대코드(5세단위) 에 따른 체중(5Kg 단위) 을 음주여부에 따라 barplot으로 그립니다.\n"
   ]
  },
  {
   "cell_type": "markdown",
   "metadata": {},
   "source": [
    "### lineplot and pointplot"
   ]
  },
  {
   "cell_type": "code",
   "execution_count": null,
   "metadata": {},
   "outputs": [],
   "source": [
    "# 연령대코드(5세단위) 에 따른 체중(5Kg 단위) 을 성별코드에 따라 lineplot으로 그립니다.\n"
   ]
  },
  {
   "cell_type": "code",
   "execution_count": null,
   "metadata": {},
   "outputs": [],
   "source": [
    "# 연령대코드(5세단위) 에 따른 신장(5Cm단위) 을 성별코드에 따라 lineplot으로 그립니다.\n"
   ]
  },
  {
   "cell_type": "code",
   "execution_count": null,
   "metadata": {},
   "outputs": [],
   "source": [
    "# 연령대코드(5세단위) 에 따른 체중(5Kg 단위) 을 음주여부에 따라 pointplot과 barplot으로 그립니다.\n",
    "\n"
   ]
  },
  {
   "cell_type": "code",
   "execution_count": null,
   "metadata": {},
   "outputs": [],
   "source": [
    "# 연령대코드(5세단위) 에 따른 신장(5Cm단위) 을 성별코드에 따라 pointplot으로 그립니다.\n",
    "\n"
   ]
  },
  {
   "cell_type": "code",
   "execution_count": null,
   "metadata": {},
   "outputs": [],
   "source": [
    "# 연령대코드(5세단위) 에 따른 혈색소를 음주여부에 따라 lineplot으로 그립니다.\n"
   ]
  },
  {
   "cell_type": "markdown",
   "metadata": {},
   "source": [
    "### boxplot\n",
    "\n",
    "* https://pandas.pydata.org/pandas-docs/stable/user_guide/visualization.html\n",
    "* https://pandas.pydata.org/pandas-docs/stable/reference/api/pandas.DataFrame.boxplot.html\n",
    "\n",
    "* [상자 수염 그림 - 위키백과, 우리 모두의 백과사전](https://ko.wikipedia.org/wiki/%EC%83%81%EC%9E%90_%EC%88%98%EC%97%BC_%EA%B7%B8%EB%A6%BC)\n",
    "* 가공하지 않은 자료 그대로를 이용하여 그린 것이 아니라, 자료로부터 얻어낸 통계량인 5가지 요약 수치로 그린다.\n",
    "* 5가지 요약 수치란 기술통계학에서 자료의 정보를 알려주는 아래의 다섯 가지 수치를 의미한다.\n",
    "\n",
    "\n",
    "1. 최솟값\n",
    "1. 제 1사분위수\n",
    "1. 제 2사분위수( ), 즉 중앙값\n",
    "1. 제 3 사분위 수( )\n",
    "1. 최댓값\n",
    "\n",
    "* Box plot 이해하기 : \n",
    "    * [박스 플롯에 대하여 :: -[|]- Box and Whisker](https://boxnwhis.kr/2019/02/19/boxplot.html)\n",
    "    * [Understanding Boxplots – Towards Data Science](https://towardsdatascience.com/understanding-boxplots-5e2df7bcbd51)"
   ]
  },
  {
   "cell_type": "code",
   "execution_count": null,
   "metadata": {},
   "outputs": [],
   "source": [
    "# boxplot으로 신장(5Cm단위) 에 따른 체중(5Kg 단위) 을 그리며, 성별코드에 따라 다른 색상으로 표현되게 합니다.\n"
   ]
  },
  {
   "cell_type": "markdown",
   "metadata": {},
   "source": [
    "### violinplot"
   ]
  },
  {
   "cell_type": "code",
   "execution_count": null,
   "metadata": {},
   "outputs": [],
   "source": [
    "# violinplot 신장(5Cm단위)에 따른 체중(5Kg 단위) 을 그리며, 음주여부에 따라 다른 색상으로 표현되게 합니다.\n"
   ]
  },
  {
   "cell_type": "code",
   "execution_count": null,
   "metadata": {},
   "outputs": [],
   "source": [
    "# violinplot의 split 기능을 사용해 봅니다. \n"
   ]
  },
  {
   "cell_type": "code",
   "execution_count": null,
   "metadata": {},
   "outputs": [],
   "source": [
    "# violinplot 연령대코드(5세단위)에 따른 혈색소를 그리며, 음주여부에 따라 다른 색상으로 표현되게 합니다.\n"
   ]
  },
  {
   "cell_type": "markdown",
   "metadata": {},
   "source": [
    "### swarm plot\n",
    "* 범주형 데이터를 산점도로 시각화하고자 할 때 사용합니다."
   ]
  },
  {
   "cell_type": "code",
   "execution_count": null,
   "metadata": {
    "scrolled": true
   },
   "outputs": [],
   "source": [
    "# swarmplot으로 신장(5Cm단위)에 따른 체중(5Kg 단위) 을 그리며, 음주여부에 따라 다른 색상으로 표현되게 합니다.\n",
    "# 점을 하나씩 찍기 때문에 오래 걸리는 코드는 전체로 그려보기 전에 일부만 가져와 그려봅니다.\n",
    "\n"
   ]
  },
  {
   "cell_type": "code",
   "execution_count": null,
   "metadata": {},
   "outputs": [],
   "source": [
    "# swarmplot으로 연령대코드(5세단위)에 따른 음주여부 그리며, 성별코드에 따라 다른 색상으로 표현되게 합니다.\n",
    "# 점을 하나씩 찍기 때문에 오래 걸리는 코드는 전체로 그려보기 전에 일부만 가져와 그려봅니다.\n"
   ]
  },
  {
   "cell_type": "code",
   "execution_count": null,
   "metadata": {},
   "outputs": [],
   "source": [
    "# lmplot 으로 그리기\n"
   ]
  },
  {
   "cell_type": "markdown",
   "metadata": {},
   "source": [
    "## 수치형 데이터 시각화"
   ]
  },
  {
   "cell_type": "markdown",
   "metadata": {},
   "source": [
    "### scatterplot - 산점도\n",
    "* 수치형 vs 수치형 데이터의 상관 관계를 볼 때 주로 사용합니다.\n",
    "* 점의 크기를 데이터의 수치에 따라 다르게 볼 수 있습니다."
   ]
  },
  {
   "cell_type": "code",
   "execution_count": null,
   "metadata": {},
   "outputs": [],
   "source": [
    "# scatterplot 으로 \"(혈청지오티)AST\", \"(혈청지오티)ALT\" 을 그리고 음주여부에 따라 다른 색상으로 표현되게 합니다.\n",
    "\n"
   ]
  },
  {
   "cell_type": "markdown",
   "metadata": {},
   "source": [
    "### lmplot - 상관 관계를 보기"
   ]
  },
  {
   "cell_type": "code",
   "execution_count": null,
   "metadata": {},
   "outputs": [],
   "source": [
    "# lmplot 으로 신장(5Cm단위)에 따른 체중(5Kg 단위) 을 그리며, 음주여부에 따라 다른 색상으로 표현되게 합니다.\n"
   ]
  },
  {
   "cell_type": "code",
   "execution_count": null,
   "metadata": {},
   "outputs": [],
   "source": [
    "# lmplot의 col기능을 통해 음주여부에 따라 서브플롯을 그려봅니다. \n",
    "\n"
   ]
  },
  {
   "cell_type": "code",
   "execution_count": null,
   "metadata": {},
   "outputs": [],
   "source": [
    "# lmplot 으로 수축기, 이완기혈압을 그리고 음주여부에 따라 다른 색상으로 표현되게 합니다.\n",
    "\n"
   ]
  },
  {
   "cell_type": "markdown",
   "metadata": {},
   "source": [
    "`AST와 ALT`\n",
    "* 출처 : https://sev.iseverance.com/dept_clinic/center/liver/treatment/view.asp?con_no=87827\n",
    "\n",
    "\n",
    "```\n",
    "AST와 ALT는 간세포에 들어 있는 효소 입니다.\n",
    "\n",
    "간이 손상돼 간세포가 파괴되면 그 안에 있던 AST와 ALT 가 빠져 나와 혈액 속에 섞여 돌아다니게 됩니다. 따라서 간이 손상되면 AST와 ALT 수치가 높아집니다.\n",
    "\n",
    "정상 수치는 병원에 따라 기준치가 다소 차이가 있으나 AST가 5~35 IU/L, ALT가 5~40 IU/L 정도 입니다.\n",
    "\n",
    " \n",
    "\n",
    "간혹 전날 술을 마시거나 몸이 피곤하면 일시적으로 AST와 ALT 수치가 정상치를 웃돌 수 있으므로 딱 한 번의 검사만으로 간질환 여부를 판단하는 경우는 드뭅니다. 하지만 AST 와 ALT 같은 간수치는 간의 상태를 일차적으로 파악하는데 아주 중요한 기준이 됩니다.\n",
    "```"
   ]
  },
  {
   "cell_type": "code",
   "execution_count": null,
   "metadata": {},
   "outputs": [],
   "source": [
    "# lmplot으로 \"(혈청지오티)AST\", \"(혈청지오티)ALT\" 을 그리고 음주여부에 따라 다른 색상으로 표현되게 합니다.\n",
    "\n"
   ]
  },
  {
   "cell_type": "markdown",
   "metadata": {},
   "source": [
    "### 이상치 다루기\n",
    "* 이상치가 있으면 데이터가 자세히 보이지 않거나 이상치로 인해 회귀선이 달라지기도 합니다.\n",
    "* 시각화를 통해 찾은 이상치를 제거하고 보거나 이상치만 따로 모아 보도록 합니다."
   ]
  },
  {
   "cell_type": "code",
   "execution_count": null,
   "metadata": {},
   "outputs": [],
   "source": [
    "# \"(혈청지오티)AST\" 와 \"(혈청지오티)ALT\" 가 400 이하인 값만 데이터프레임 형태로 추출해서 \n",
    "# df_ASLT 라는 변수에 담습니다.\n"
   ]
  },
  {
   "cell_type": "code",
   "execution_count": null,
   "metadata": {},
   "outputs": [],
   "source": [
    "# 이상치를 제거한 \"(혈청지오티)AST\" 와 \"(혈청지오티)ALT\" 를 lmplot으로 그리며 \n",
    "# 음주여부에 따라 다른 색으로 표현합니다.\n",
    "\n"
   ]
  },
  {
   "cell_type": "code",
   "execution_count": null,
   "metadata": {},
   "outputs": [],
   "source": [
    "# \"(혈청지오티)AST\" 와 \"(혈청지오티)ALT\" 가 400 이상인 값만 데이터프레임 형태로 추출해서 \n",
    "# df_ASLT_high 라는 변수에 담습니다.\n",
    "\n"
   ]
  },
  {
   "cell_type": "code",
   "execution_count": null,
   "metadata": {},
   "outputs": [],
   "source": [
    "# 위에서 구한 df_ASLT_high 데이터 프레임에 담겨진 혈청지오티가 높은 데이터만 따로 봅니다.\n",
    "\n"
   ]
  },
  {
   "cell_type": "markdown",
   "metadata": {},
   "source": [
    "### distplot\n",
    "* [히스토그램 - 위키백과, 우리 모두의 백과사전](https://ko.wikipedia.org/wiki/%ED%9E%88%EC%8A%A4%ED%86%A0%EA%B7%B8%EB%9E%A8)\n",
    "* [확률 밀도 함수 - 위키백과, 우리 모두의 백과사전](https://ko.wikipedia.org/wiki/%ED%99%95%EB%A5%A0_%EB%B0%80%EB%8F%84_%ED%95%A8%EC%88%98)"
   ]
  },
  {
   "cell_type": "code",
   "execution_count": null,
   "metadata": {},
   "outputs": [],
   "source": [
    "# 수치형 데이터로 된 컬럼을 찾기 위해 컬럼명만 따로 출력합니다.\n",
    "\n"
   ]
  },
  {
   "cell_type": "code",
   "execution_count": null,
   "metadata": {},
   "outputs": [],
   "source": [
    "# \"총콜레스테롤\" 에 따른 distplot 을 그립니다.\n"
   ]
  },
  {
   "cell_type": "code",
   "execution_count": null,
   "metadata": {},
   "outputs": [],
   "source": [
    "# 음주여부가 1인 값에 대한 \"총콜레스테롤\" 을 distplot 으로 그립니다.\n",
    "\n"
   ]
  },
  {
   "cell_type": "code",
   "execution_count": null,
   "metadata": {},
   "outputs": [],
   "source": [
    "# 음주여부가 0인 값에 대한 \"총콜레스테롤\" 을 distplot 으로 그립니다.\n",
    "\n"
   ]
  },
  {
   "cell_type": "code",
   "execution_count": null,
   "metadata": {},
   "outputs": [],
   "source": [
    "# 음주여부 값에 대한 \"총콜레스테롤\" 을 distplot 으로 그리며, 하나의 그래프에 표시되도록 합니다.\n",
    "\n"
   ]
  },
  {
   "cell_type": "code",
   "execution_count": null,
   "metadata": {},
   "outputs": [],
   "source": [
    "# 감마지티피 값에 따라 음주여부를 시각화 합니다.\n",
    "\n"
   ]
  },
  {
   "cell_type": "markdown",
   "metadata": {},
   "source": [
    "## 상관 분석\n",
    "* [상관 분석 - 위키백과, 우리 모두의 백과사전](https://ko.wikipedia.org/wiki/%EC%83%81%EA%B4%80_%EB%B6%84%EC%84%9D)\n",
    "\n",
    "```\n",
    "r이 -1.0과 -0.7 사이이면, 강한 음적 선형관계,\n",
    "r이 -0.7과 -0.3 사이이면, 뚜렷한 음적 선형관계,\n",
    "r이 -0.3과 -0.1 사이이면, 약한 음적 선형관계,\n",
    "r이 -0.1과 +0.1 사이이면, 거의 무시될 수 있는 선형관계,\n",
    "r이 +0.1과 +0.3 사이이면, 약한 양적 선형관계,\n",
    "r이 +0.3과 +0.7 사이이면, 뚜렷한 양적 선형관계,\n",
    "r이 +0.7과 +1.0 사이이면, 강한 양적 선형관계\n",
    "```"
   ]
  },
  {
   "cell_type": "code",
   "execution_count": null,
   "metadata": {},
   "outputs": [],
   "source": [
    "# 상관계수에 사용할 컬럼을 변수에 담습니다.\n",
    "columns = ['연령대코드(5세단위)', '체중(5Kg 단위)', '신장(5Cm단위)', '허리둘레', \n",
    "           '시력(좌)', '시력(우)', '청력(좌)', '청력(우)', \n",
    "           '수축기혈압', '이완기혈압', '식전혈당(공복혈당)', \n",
    "           '총콜레스테롤', '트리글리세라이드', 'HDL콜레스테롤', 'LDL콜레스테롤', '혈색소', '요단백', \n",
    "           '혈청크레아티닌', '(혈청지오티)AST', '(혈청지오티)ALT', '감마지티피', '흡연상태', '음주여부']\n",
    "columns"
   ]
  },
  {
   "cell_type": "markdown",
   "metadata": {},
   "source": [
    "### 상관계수 구하기"
   ]
  },
  {
   "cell_type": "code",
   "execution_count": null,
   "metadata": {},
   "outputs": [],
   "source": [
    "# 샘플컬럼만 가져와서 df_small 이라는 데이터프레임에 담은 뒤 상관계수를 구합니다.\n",
    "\n"
   ]
  },
  {
   "cell_type": "code",
   "execution_count": null,
   "metadata": {},
   "outputs": [],
   "source": [
    "# 키에 대한 상관계수가 특정 수치 이상인 데이터를 봅니다.\n",
    "\n"
   ]
  },
  {
   "cell_type": "code",
   "execution_count": null,
   "metadata": {},
   "outputs": [],
   "source": [
    "# 음주여부에 대한 상관계수가 특정 수치 이상인 데이터를 봅니다.\n"
   ]
  },
  {
   "cell_type": "code",
   "execution_count": null,
   "metadata": {},
   "outputs": [],
   "source": [
    "# 혈색소에 대한 상관계수가 특정 수치 이상인 데이터를 봅니다.\n"
   ]
  },
  {
   "cell_type": "code",
   "execution_count": null,
   "metadata": {},
   "outputs": [],
   "source": [
    "# 감마지티피에 대한 상관계수가 특정 수치 이상인 데이터를 봅니다.\n"
   ]
  },
  {
   "cell_type": "markdown",
   "metadata": {},
   "source": [
    "### heatmap\n",
    "* [Plotting a diagonal correlation matrix — seaborn 0.10.0 documentation](https://seaborn.pydata.org/examples/many_pairwise_correlations.html)"
   ]
  },
  {
   "cell_type": "code",
   "execution_count": null,
   "metadata": {},
   "outputs": [],
   "source": [
    "# 위에서 구한 상관계수를 heatmap을 통해 표현해 봅니다.\n"
   ]
  },
  {
   "cell_type": "code",
   "execution_count": null,
   "metadata": {},
   "outputs": [],
   "source": []
  },
  {
   "cell_type": "code",
   "execution_count": null,
   "metadata": {},
   "outputs": [],
   "source": []
  },
  {
   "cell_type": "code",
   "execution_count": null,
   "metadata": {},
   "outputs": [],
   "source": []
  }
 ],
 "metadata": {
  "kernelspec": {
   "display_name": "Python 3",
   "language": "python",
   "name": "python3"
  },
  "language_info": {
   "codemirror_mode": {
    "name": "ipython",
    "version": 3
   },
   "file_extension": ".py",
   "mimetype": "text/x-python",
   "name": "python",
   "nbconvert_exporter": "python",
   "pygments_lexer": "ipython3",
   "version": "3.9.16"
  },
  "toc": {
   "base_numbering": 1,
   "nav_menu": {},
   "number_sections": true,
   "sideBar": true,
   "skip_h1_title": false,
   "title_cell": "Table of Contents",
   "title_sidebar": "Contents",
   "toc_cell": false,
   "toc_position": {
    "height": "calc(100% - 180px)",
    "left": "10px",
    "top": "150px",
    "width": "233px"
   },
   "toc_section_display": true,
   "toc_window_display": true
  },
  "varInspector": {
   "cols": {
    "lenName": 16,
    "lenType": 16,
    "lenVar": 40
   },
   "kernels_config": {
    "python": {
     "delete_cmd_postfix": "",
     "delete_cmd_prefix": "del ",
     "library": "var_list.py",
     "varRefreshCmd": "print(var_dic_list())"
    },
    "r": {
     "delete_cmd_postfix": ") ",
     "delete_cmd_prefix": "rm(",
     "library": "var_list.r",
     "varRefreshCmd": "cat(var_dic_list()) "
    }
   },
   "types_to_exclude": [
    "module",
    "function",
    "builtin_function_or_method",
    "instance",
    "_Feature"
   ],
   "window_display": false
  }
 },
 "nbformat": 4,
 "nbformat_minor": 2
}
